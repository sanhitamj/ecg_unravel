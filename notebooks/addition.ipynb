{
 "cells": [
  {
   "cell_type": "code",
   "execution_count": 1,
   "id": "26c2d6c7-5fd6-4e10-9660-fb906a498632",
   "metadata": {},
   "outputs": [],
   "source": [
    "import matplotlib.pyplot as plt\n",
    "import numpy as np\n",
    "import pandas as pd\n",
    "import torch"
   ]
  },
  {
   "cell_type": "code",
   "execution_count": 2,
   "id": "d138466a-c123-419d-92ce-438dc77581ce",
   "metadata": {},
   "outputs": [],
   "source": [
    "size = 100\n",
    "\n",
    "a = torch.rand(size=(size, 1)) * 100\n",
    "b = torch.rand(size=(size, 1)) * 100\n",
    "c = a + b + torch.rand(size, 1) * 3  # the last item is adding noise\n"
   ]
  },
  {
   "cell_type": "code",
   "execution_count": 4,
   "id": "7f3befb9-78a8-4dd2-95c6-239fd88fb26f",
   "metadata": {},
   "outputs": [],
   "source": [
    "df = pd.DataFrame()\n",
    "df['a'] = a[:, 0].numpy()\n",
    "df['b'] = b[:, 0].numpy()\n",
    "df['c'] = c[:, 0].numpy()\n"
   ]
  },
  {
   "cell_type": "code",
   "execution_count": 5,
   "id": "efad1808-7f24-48c7-9e57-26387ecd59db",
   "metadata": {},
   "outputs": [
    {
     "data": {
      "image/png": "[encoded data removed]",
      "text/plain": [
       "<Figure size 640x480 with 1 Axes>"
      ]
     },
     "metadata": {},
     "output_type": "display_data"
    }
   ],
   "source": [
    "abs(df['c'] - (df['a'] + df['b'])).hist()\n",
    "plt.xlabel(\"Absolute difference betweeen real sum and noise\")\n",
    "plt.show()"
   ]
  },
  {
   "cell_type": "code",
   "execution_count": 6,
   "id": "01cfaa67-baee-4a99-a82f-7b32ad92712e",
   "metadata": {},
   "outputs": [
    {
     "name": "stdout",
     "output_type": "stream",
     "text": [
      "SimpleNN(\n",
      "  (fc2): Linear(in_features=2, out_features=1, bias=True)\n",
      ")\n"
     ]
    }
   ],
   "source": [
    "import torch.nn as nn\n",
    "import torch.nn.functional as F\n",
    "\n",
    "input_feat_count = 2\n",
    "hidden_dim = 0\n",
    "\n",
    "class SimpleNN(nn.Module):\n",
    "    def __init__(self, hidden_dim=hidden_dim):\n",
    "        super(SimpleNN, self).__init__()\n",
    "        # Input layer: 2 features -> hidden_dim\n",
    "        # self.fc1 = nn.Linear(input_feat_count, hidden_dim)\n",
    "        # Hidden layer: hidden_dim -> 1 output\n",
    "        self.fc2 = nn.Linear(input_feat_count, 1)\n",
    "\n",
    "    def forward(self, x):\n",
    "        # Pass through first layer + activation\n",
    "        # x = F.relu(self.fc1(x))\n",
    "        # Output layer (no activation, for regression)\n",
    "        x = self.fc2(x)\n",
    "        return x\n",
    "\n",
    "\n",
    "# Example usage:\n",
    "model = SimpleNN(hidden_dim=hidden_dim)\n",
    "print(model)\n"
   ]
  },
  {
   "cell_type": "code",
   "execution_count": 7,
   "id": "f3d6bd0d-e8da-4c0b-9d91-a059aa6b8198",
   "metadata": {},
   "outputs": [
    {
     "data": {
      "text/plain": [
       "torch.Size([100, 1])"
      ]
     },
     "execution_count": 7,
     "metadata": {},
     "output_type": "execute_result"
    }
   ],
   "source": [
    "tensor = torch.concatenate([a, b], axis=1)\n",
    "output = model(tensor)\n",
    "output.shape"
   ]
  },
  {
   "cell_type": "code",
   "execution_count": 8,
   "id": "4acbd94a-ea36-4da0-9a2b-f6e8860ea4bc",
   "metadata": {},
   "outputs": [],
   "source": [
    "diff = abs(output[:, 0] - c[:, 0])"
   ]
  },
  {
   "cell_type": "code",
   "execution_count": 9,
   "id": "d350b98a-2713-4c65-a35e-18d6b48b964b",
   "metadata": {},
   "outputs": [
    {
     "data": {
      "text/plain": [
       "tensor([124.1415,  84.0331,  45.8548,  69.2776, 169.7619, 135.1211,  93.1921,\n",
       "        150.1939, 217.3164, 109.2421, 161.3676, 153.5149, 152.7236, 172.5754,\n",
       "        167.5773, 123.7604, 194.7648,  79.8754,  19.8436, 111.1227, 122.1073,\n",
       "         85.9304,  44.6863,  32.7266,  96.8002, 163.5191, 172.8188,  72.3082,\n",
       "        179.1526,  81.4423, 105.6120, 115.6913, 165.0507,  53.0157,  49.6144,\n",
       "         77.1157, 103.3156,  83.6566, 165.7405,  60.3762, 103.6005, 191.7646,\n",
       "         36.4198, 165.2099,  12.3106,  83.8597,  91.9292, 170.0515,  11.3696,\n",
       "         65.8094,  67.7838, 117.6104,  71.1962,  61.2452,  49.2415,  92.9903,\n",
       "        122.2955, 141.3370,  75.7658,  98.6604, 131.9891, 115.3074,  87.9056,\n",
       "        122.1791,  50.8750, 178.4979, 136.3072,  91.7601,  55.9966, 143.3347,\n",
       "        136.1593, 110.5955, 203.8277,  56.7615,  81.8665, 149.1928, 120.7347,\n",
       "         65.4038,  37.5464,  54.0462,  99.9905, 173.9481,  93.3416, 123.0905,\n",
       "        111.1385,  93.6546,  65.8633,  28.5766,  60.6238, 120.2784,  66.9960,\n",
       "        142.7882,  87.5197,  24.6072,  80.3160,  75.6568, 103.7912, 167.2119,\n",
       "         52.3845, 170.6485], grad_fn=<AbsBackward0>)"
      ]
     },
     "execution_count": 9,
     "metadata": {},
     "output_type": "execute_result"
    }
   ],
   "source": [
    "diff"
   ]
  },
  {
   "cell_type": "code",
   "execution_count": 10,
   "id": "15caae20-16b5-40ab-b51f-8200e93902e9",
   "metadata": {},
   "outputs": [],
   "source": [
    "import torch.optim as optim\n",
    "\n",
    "criterion = nn.MSELoss()  # regression loss\n",
    "optimizer = optim.Adam(model.parameters(), lr=0.01)"
   ]
  },
  {
   "cell_type": "code",
   "execution_count": 14,
   "id": "d9b32abf-5885-451f-b98b-9fe32a6ada1c",
   "metadata": {},
   "outputs": [
    {
     "name": "stdout",
     "output_type": "stream",
     "text": [
      "Epoch [20/200], Loss: 249.2432\n",
      "fc2.weight tensor([[0.5573, 1.3289]])\n",
      "\n",
      "\n",
      "fc2.bias tensor([1.7069])\n",
      "\n",
      "\n",
      "Epoch [40/200], Loss: 216.0018\n",
      "fc2.weight tensor([[0.5913, 1.3132]])\n",
      "\n",
      "\n",
      "fc2.bias tensor([1.7177])\n",
      "\n",
      "\n",
      "Epoch [60/200], Loss: 186.6999\n",
      "fc2.weight tensor([[0.6223, 1.2948]])\n",
      "\n",
      "\n",
      "fc2.bias tensor([1.7255])\n",
      "\n",
      "\n",
      "Epoch [80/200], Loss: 160.5482\n",
      "fc2.weight tensor([[0.6509, 1.2751]])\n",
      "\n",
      "\n",
      "fc2.bias tensor([1.7315])\n",
      "\n",
      "\n",
      "Epoch [100/200], Loss: 137.2454\n",
      "fc2.weight tensor([[0.6779, 1.2550]])\n",
      "\n",
      "\n",
      "fc2.bias tensor([1.7365])\n",
      "\n",
      "\n",
      "Epoch [120/200], Loss: 116.6139\n",
      "fc2.weight tensor([[0.7033, 1.2353]])\n",
      "\n",
      "\n",
      "fc2.bias tensor([1.7408])\n",
      "\n",
      "\n",
      "Epoch [140/200], Loss: 98.4876\n",
      "fc2.weight tensor([[0.7275, 1.2163]])\n",
      "\n",
      "\n",
      "fc2.bias tensor([1.7446])\n",
      "\n",
      "\n",
      "Epoch [160/200], Loss: 82.6867\n",
      "fc2.weight tensor([[0.7504, 1.1980]])\n",
      "\n",
      "\n",
      "fc2.bias tensor([1.7482])\n",
      "\n",
      "\n",
      "Epoch [180/200], Loss: 69.0185\n",
      "fc2.weight tensor([[0.7720, 1.1807]])\n",
      "\n",
      "\n",
      "fc2.bias tensor([1.7516])\n",
      "\n",
      "\n",
      "Epoch [200/200], Loss: 57.2834\n",
      "fc2.weight tensor([[0.7923, 1.1645]])\n",
      "\n",
      "\n",
      "fc2.bias tensor([1.7547])\n",
      "\n",
      "\n",
      "fc2.weight tensor([[0.7923, 1.1645]])\n",
      "fc2.bias tensor([1.7547])\n"
     ]
    }
   ],
   "source": [
    "epochs = 200\n",
    "for epoch in range(epochs):\n",
    "    # Forward pass\n",
    "    outputs = model(tensor)\n",
    "    loss = criterion(outputs, c)\n",
    "    \n",
    "    \n",
    "    # Backward pass and optimization\n",
    "    optimizer.zero_grad()\n",
    "    loss.backward()\n",
    "    optimizer.step()\n",
    "    \n",
    "    # Print progress\n",
    "    if (epoch+1) % 20 == 0:\n",
    "        print(f\"Epoch [{epoch+1}/{epochs}], Loss: {loss.item():.4f}\")\n",
    "        for name, param in model.named_parameters():\n",
    "            print(name, param.data)\n",
    "            print(\"\\n\")\n",
    "\n",
    "    if loss < 1:\n",
    "        break\n",
    "for name, param in model.named_parameters():\n",
    "    print(name, param.data)\n"
   ]
  },
  {
   "cell_type": "code",
   "execution_count": null,
   "id": "da98299d-1e06-4fe8-aebc-d3eb43fc4f6c",
   "metadata": {},
   "outputs": [],
   "source": []
  },
  {
   "cell_type": "code",
   "execution_count": null,
   "id": "6a58256a-9682-461a-8a91-353b155d6e98",
   "metadata": {},
   "outputs": [],
   "source": []
  },
  {
   "cell_type": "code",
   "execution_count": 28,
   "id": "ae143e3b-a9a3-4a7c-875c-fe9e414d0b19",
   "metadata": {},
   "outputs": [
    {
     "data": {
      "text/plain": [
       "tensor([0.2960, 0.1272, 1.3779, 0.7805, 0.1934, 0.8654, 0.8796, 0.0480, 0.4557,\n",
       "        0.1018, 1.2670, 1.7204, 1.3130, 1.2274, 0.8659, 1.0393, 1.2973, 1.2226,\n",
       "        1.2440, 0.8662, 1.1101, 0.0083, 0.0510, 2.1017, 0.7638, 0.8045, 1.6319,\n",
       "        0.0236, 1.1392, 0.7892, 0.2493, 1.4266, 0.6446, 1.4483, 0.0600, 1.1684,\n",
       "        0.5811, 0.8642, 0.0043, 0.0474, 0.3249, 1.0675, 1.1911, 1.2235, 0.9838,\n",
       "        0.6458, 1.1912, 1.0851, 0.0634, 1.0070, 0.3882, 0.2825, 1.1071, 0.4593,\n",
       "        1.4626, 1.0661, 0.7520, 0.6867, 0.3384, 0.4775, 0.4078, 0.4121, 0.8740,\n",
       "        1.7247, 0.4533, 0.5642, 1.5769, 0.5871, 0.7457, 0.4030, 0.9080, 0.0146,\n",
       "        0.9977, 0.7931, 2.0198, 1.6028, 0.6233, 1.3668, 0.1213, 1.6434, 0.2350,\n",
       "        1.5012, 1.6445, 1.1463, 1.2461, 0.5145, 0.8570, 1.2419, 0.3544, 1.1749,\n",
       "        1.3322, 0.8756, 0.9245, 1.3015, 0.4797, 1.9002, 1.1524, 0.7800, 0.9887,\n",
       "        0.6666], grad_fn=<AbsBackward0>)"
      ]
     },
     "execution_count": 28,
     "metadata": {},
     "output_type": "execute_result"
    }
   ],
   "source": [
    "diff = abs(outputs[:, 0] - c[:, 0])\n",
    "diff"
   ]
  },
  {
   "cell_type": "code",
   "execution_count": 29,
   "id": "a135511b-d2c2-40e3-9f62-d36e213d9d79",
   "metadata": {},
   "outputs": [
    {
     "name": "stdout",
     "output_type": "stream",
     "text": [
      "fc2.weight tensor([[0.9906, 1.0061]])\n",
      "fc2.bias tensor([1.8527])\n"
     ]
    }
   ],
   "source": [
    "for name, param in model.named_parameters():\n",
    "    print(name, param.data)"
   ]
  },
  {
   "cell_type": "code",
   "execution_count": 15,
   "id": "e8c089b8-9bd6-4fbf-93e9-41d189a1ce90",
   "metadata": {},
   "outputs": [
    {
     "ename": "SyntaxError",
     "evalue": "unmatched ')' (3156371448.py, line 1)",
     "output_type": "error",
     "traceback": [
      "  \u001b[36mCell\u001b[39m\u001b[36m \u001b[39m\u001b[32mIn[15]\u001b[39m\u001b[32m, line 1\u001b[39m\n\u001b[31m    \u001b[39m\u001b[31mprint(\"Weights of first layer:\") model.fc1.weight.data)\u001b[39m\n                                                          ^\n\u001b[31mSyntaxError\u001b[39m\u001b[31m:\u001b[39m unmatched ')'\n"
     ]
    }
   ],
   "source": [
    "print(\"Weights of first layer:\") \n",
    "model.fc1.weight.data"
   ]
  },
  {
   "cell_type": "code",
   "execution_count": 30,
   "id": "79d0103b-5305-4872-8618-5134f11012e9",
   "metadata": {},
   "outputs": [
    {
     "name": "stdout",
     "output_type": "stream",
     "text": [
      "Bias of first layer:\n"
     ]
    },
    {
     "data": {
      "text/plain": [
       "tensor([1.8419])"
      ]
     },
     "execution_count": 30,
     "metadata": {},
     "output_type": "execute_result"
    }
   ],
   "source": [
    "print(\"Bias of first layer:\") \n",
    "model.fc1.bias.data\n"
   ]
  },
  {
   "cell_type": "code",
   "execution_count": 31,
   "id": "45319cee-0f36-493e-8a7b-4b34eae3e67b",
   "metadata": {},
   "outputs": [
    {
     "name": "stdout",
     "output_type": "stream",
     "text": [
      "Weights of second layer: tensor([[1.1055]])\n",
      "Bias of second layer: tensor([0.5126])\n"
     ]
    }
   ],
   "source": [
    "print(\"Weights of second layer:\", model.fc2.weight.data)\n",
    "print(\"Bias of second layer:\", model.fc2.bias.data)\n"
   ]
  },
  {
   "cell_type": "markdown",
   "id": "93facdbd-9b33-4593-a095-f2ed51b8c7a3",
   "metadata": {},
   "source": [
    "# "
   ]
  },
  {
   "cell_type": "code",
   "execution_count": 15,
   "id": "cf27256d-0daa-48ea-b51c-25adb65d457c",
   "metadata": {},
   "outputs": [],
   "source": [
    "m = nn.Conv1d(in_channels=12, out_channels=1, kernel_size=17, stride=2)\n",
    "\n",
    "input_ = torch.randn(20, 12, 50)\n",
    "\n",
    "output = m(input_)\n"
   ]
  },
  {
   "cell_type": "code",
   "execution_count": 21,
   "id": "4327fc70-96db-4ea1-93bb-d1255f328ff2",
   "metadata": {},
   "outputs": [
    {
     "data": {
      "text/plain": [
       "torch.Size([20, 33, 16])"
      ]
     },
     "execution_count": 21,
     "metadata": {},
     "output_type": "execute_result"
    }
   ],
   "source": [
    "m = nn.Conv1d(16, 33, 5, stride=3)\n",
    "input_ = torch.randn(20, 16, 50)\n",
    "output = m(input_)\n",
    "\n",
    "output.shape"
   ]
  },
  {
   "cell_type": "code",
   "execution_count": 18,
   "id": "d354a06e-c023-457f-b17b-1143567f6a34",
   "metadata": {},
   "outputs": [
    {
     "data": {
      "text/plain": [
       "torch.Size([20, 16, 50])"
      ]
     },
     "execution_count": 18,
     "metadata": {},
     "output_type": "execute_result"
    }
   ],
   "source": [
    "input_.shape"
   ]
  },
  {
   "cell_type": "code",
   "execution_count": null,
   "id": "9e2d7225-69a9-45e7-92e8-6e1a2aec171f",
   "metadata": {},
   "outputs": [],
   "source": []
  }
 ],
 "metadata": {
  "kernelspec": {
   "display_name": "Python 3 (ipykernel)",
   "language": "python",
   "name": "python3"
  },
  "language_info": {
   "codemirror_mode": {
    "name": "ipython",
    "version": 3
   },
   "file_extension": ".py",
   "mimetype": "text/x-python",
   "name": "python",
   "nbconvert_exporter": "python",
   "pygments_lexer": "ipython3",
   "version": "3.13.3"
  }
 },
 "nbformat": 4,
 "nbformat_minor": 5
}
