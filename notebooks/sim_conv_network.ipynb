{
 "cells": [
  {
   "cell_type": "markdown",
   "id": "63b5cff8",
   "metadata": {},
   "source": [
    "# Simulate a Convolutional Neural Network\n",
    "\n",
    "Simulate data from a CNN in 1 dimension. Then, fit a CNN model\n",
    "to the data to determine whether we can recover the true parameters."
   ]
  },
  {
   "cell_type": "code",
   "execution_count": 1,
   "id": "9ce5733e",
   "metadata": {},
   "outputs": [],
   "source": [
    "import numpy as np\n",
    "\n",
    "import torch\n",
    "import torch.nn as nn\n",
    "import torch.optim as optim\n",
    "\n",
    "import matplotlib.pyplot as plt"
   ]
  },
  {
   "cell_type": "code",
   "execution_count": 2,
   "id": "bb66f57b",
   "metadata": {},
   "outputs": [],
   "source": [
    "np.random.seed(1337)"
   ]
  },
  {
   "cell_type": "code",
   "execution_count": 3,
   "id": "ff100ee4",
   "metadata": {},
   "outputs": [],
   "source": [
    "# Generate the X tensor. Each observation has n_channels_in * n_vector_elements observations.\n",
    "n_channels_in = 2\n",
    "n_vector_elements = 5\n",
    "n_observations = 1000\n",
    "\n",
    "kernel_size = 3\n",
    "n_channels_out = 4\n",
    "\n",
    "x = np.random.normal(0, 1, size=[n_observations, n_channels_in, n_vector_elements])\n",
    "x_tensor = torch.Tensor(x)"
   ]
  },
  {
   "cell_type": "code",
   "execution_count": 4,
   "id": "325c4901",
   "metadata": {},
   "outputs": [
    {
     "data": {
      "text/plain": [
       "torch.Size([1000, 2, 5])"
      ]
     },
     "execution_count": 4,
     "metadata": {},
     "output_type": "execute_result"
    }
   ],
   "source": [
    "x_tensor.shape"
   ]
  },
  {
   "cell_type": "code",
   "execution_count": 5,
   "id": "4c914479",
   "metadata": {},
   "outputs": [],
   "source": [
    "# Generate some true weights and biases.\n",
    "true_conv1_weights = np.random.normal(0, 1, [n_channels_out, n_channels_in, kernel_size])\n",
    "true_lin_weights = np.random.normal(0, 1, n_channels_out * n_vector_elements)\n",
    "true_lin_bias = -0.5"
   ]
  },
  {
   "cell_type": "code",
   "execution_count": 6,
   "id": "08116eb6",
   "metadata": {},
   "outputs": [],
   "source": [
    "\n",
    "# Make an empty hidden layer to hold the convolution output.\n",
    "z = np.zeros((n_observations, n_channels_out, n_vector_elements))\n",
    "\n",
    "# Perform the convolution transforming x to z.\n",
    "padding = int((kernel_size - 1) / 2)\n",
    "for obs in range(n_observations):\n",
    "    for out_channel in range(n_channels_out):\n",
    "        for kernel_center in range(n_vector_elements):\n",
    "            if kernel_center < padding:  # In this case, we need to pad to the left.\n",
    "                z[obs, :, kernel_center] = (\n",
    "                    (x[obs, :, :(kernel_center + padding + 1)] \n",
    "                    * true_conv1_weights[:, :, (kernel_size - kernel_center - padding - 1):])\n",
    "                    .sum(axis=1)\n",
    "                    .sum(axis=1)\n",
    "                )\n",
    "            elif kernel_center >= (n_vector_elements - padding):  # Pad to the right\n",
    "                z[obs, :, kernel_center] = (\n",
    "                    (x[obs, :, (kernel_center - padding):] \n",
    "                    * true_conv1_weights[:, :, :(n_vector_elements - kernel_center + padding)])\n",
    "                    .sum(axis=1)\n",
    "                    .sum(axis=1)\n",
    "                )\n",
    "            else:  # No padding\n",
    "                z[obs, :, kernel_center] = (x[obs, :, (kernel_center - padding):(kernel_center + padding + 1)] \n",
    "                                            * true_conv1_weights[:, :, :]).sum(axis=1).sum(axis=1)\n",
    "\n",
    "# Flatten z\n",
    "z = z.reshape((n_observations, n_channels_out * n_vector_elements))\n",
    "\n",
    "# Apply linear transformation layer\n",
    "y = true_lin_bias + (true_lin_weights * z).sum(axis=1)\n"
   ]
  },
  {
   "cell_type": "code",
   "execution_count": 7,
   "id": "467e1567",
   "metadata": {},
   "outputs": [],
   "source": [
    "y = y + np.random.normal(0, 1, n_observations)  # Add random noise\n",
    "y_tensor = torch.Tensor(y)"
   ]
  },
  {
   "cell_type": "code",
   "execution_count": null,
   "id": "9aaf8bcf",
   "metadata": {},
   "outputs": [],
   "source": [
    "def _padding(downsample, kernel_size):\n",
    "    \"\"\"Compute required padding\"\"\"\n",
    "    padding = max(0, int(np.floor((kernel_size - downsample + 1) / 2)))\n",
    "    print(f\"Padding: {padding}\")\n",
    "    return padding\n",
    "\n",
    "class ConvNN(nn.Module):\n",
    "    def __init__(self, n_channels_in, n_channels_out, kernel_size, dropout_rate):\n",
    "        super(ConvNN, self).__init__()\n",
    "        padding = _padding(1, kernel_size)\n",
    "        self.conv1 = nn.Conv1d(in_channels=n_channels_in, \n",
    "                               out_channels=n_channels_out,\n",
    "                               kernel_size=kernel_size,\n",
    "                               padding=padding,\n",
    "                               bias=False)\n",
    "        self.bn1 = nn.BatchNorm1d(n_channels_out)\n",
    "        self.relu = nn.ReLU()\n",
    "        self.dropout1 = nn.Dropout(dropout_rate)\n",
    "        self.lin = nn.Linear(n_channels_out * n_vector_elements, 1)\n",
    "\n",
    "    def forward(self, x):\n",
    "        out = self.conv1(x)\n",
    "        out = self.bn1(out)\n",
    "        out = self.relu(out)\n",
    "        out = self.dropout1(out)\n",
    "\n",
    "        # Flatten array\n",
    "        out = out.view(out.size(0), -1)\n",
    "\n",
    "        out = self.lin(out)\n",
    "\n",
    "        return out\n"
   ]
  },
  {
   "cell_type": "code",
   "execution_count": 9,
   "id": "596e334d",
   "metadata": {},
   "outputs": [
    {
     "name": "stdout",
     "output_type": "stream",
     "text": [
      "Padding: 1\n"
     ]
    }
   ],
   "source": [
    "model = ConvNN(n_channels_in=n_channels_in,\n",
    "               n_channels_out=n_channels_out,\n",
    "               kernel_size=kernel_size,\n",
    "               dropout_rate=0.25)\n",
    "criterion = nn.MSELoss()  # Mean Squared Error Loss for regression\n",
    "optimizer = optim.SGD(model.parameters(), lr=0.001) # Stochastic Gradient Descent\n"
   ]
  },
  {
   "cell_type": "code",
   "execution_count": 10,
   "id": "6930dd61",
   "metadata": {},
   "outputs": [
    {
     "name": "stderr",
     "output_type": "stream",
     "text": [
      "/opt/homebrew/Caskroom/miniconda/base/envs/ecg_precise/lib/python3.13/site-packages/torch/nn/modules/loss.py:610: UserWarning: Using a target size (torch.Size([1000])) that is different to the input size (torch.Size([1000, 1])). This will likely lead to incorrect results due to broadcasting. Please ensure they have the same size.\n",
      "  return F.mse_loss(input, target, reduction=self.reduction)\n"
     ]
    },
    {
     "name": "stdout",
     "output_type": "stream",
     "text": [
      "Epoch [100/1000], Loss: 161.2242\n",
      "Epoch [200/1000], Loss: 161.1678\n"
     ]
    },
    {
     "ename": "KeyboardInterrupt",
     "evalue": "",
     "output_type": "error",
     "traceback": [
      "\u001b[31m---------------------------------------------------------------------------\u001b[39m",
      "\u001b[31mKeyboardInterrupt\u001b[39m                         Traceback (most recent call last)",
      "\u001b[36mCell\u001b[39m\u001b[36m \u001b[39m\u001b[32mIn[10]\u001b[39m\u001b[32m, line 10\u001b[39m\n\u001b[32m      8\u001b[39m \u001b[38;5;66;03m# Backward and optimize\u001b[39;00m\n\u001b[32m      9\u001b[39m optimizer.zero_grad() \u001b[38;5;66;03m# Clear gradients from previous iteration\u001b[39;00m\n\u001b[32m---> \u001b[39m\u001b[32m10\u001b[39m \u001b[43mloss\u001b[49m\u001b[43m.\u001b[49m\u001b[43mbackward\u001b[49m\u001b[43m(\u001b[49m\u001b[43m)\u001b[49m       \u001b[38;5;66;03m# Compute gradients\u001b[39;00m\n\u001b[32m     11\u001b[39m optimizer.step()      \u001b[38;5;66;03m# Update model parameters\u001b[39;00m\n\u001b[32m     13\u001b[39m \u001b[38;5;28;01mif\u001b[39;00m (epoch + \u001b[32m1\u001b[39m) % \u001b[32m100\u001b[39m == \u001b[32m0\u001b[39m:\n",
      "\u001b[36mFile \u001b[39m\u001b[32m/opt/homebrew/Caskroom/miniconda/base/envs/ecg_precise/lib/python3.13/site-packages/torch/_tensor.py:648\u001b[39m, in \u001b[36mTensor.backward\u001b[39m\u001b[34m(self, gradient, retain_graph, create_graph, inputs)\u001b[39m\n\u001b[32m    638\u001b[39m \u001b[38;5;28;01mif\u001b[39;00m has_torch_function_unary(\u001b[38;5;28mself\u001b[39m):\n\u001b[32m    639\u001b[39m     \u001b[38;5;28;01mreturn\u001b[39;00m handle_torch_function(\n\u001b[32m    640\u001b[39m         Tensor.backward,\n\u001b[32m    641\u001b[39m         (\u001b[38;5;28mself\u001b[39m,),\n\u001b[32m   (...)\u001b[39m\u001b[32m    646\u001b[39m         inputs=inputs,\n\u001b[32m    647\u001b[39m     )\n\u001b[32m--> \u001b[39m\u001b[32m648\u001b[39m \u001b[43mtorch\u001b[49m\u001b[43m.\u001b[49m\u001b[43mautograd\u001b[49m\u001b[43m.\u001b[49m\u001b[43mbackward\u001b[49m\u001b[43m(\u001b[49m\n\u001b[32m    649\u001b[39m \u001b[43m    \u001b[49m\u001b[38;5;28;43mself\u001b[39;49m\u001b[43m,\u001b[49m\u001b[43m \u001b[49m\u001b[43mgradient\u001b[49m\u001b[43m,\u001b[49m\u001b[43m \u001b[49m\u001b[43mretain_graph\u001b[49m\u001b[43m,\u001b[49m\u001b[43m \u001b[49m\u001b[43mcreate_graph\u001b[49m\u001b[43m,\u001b[49m\u001b[43m \u001b[49m\u001b[43minputs\u001b[49m\u001b[43m=\u001b[49m\u001b[43minputs\u001b[49m\n\u001b[32m    650\u001b[39m \u001b[43m\u001b[49m\u001b[43m)\u001b[49m\n",
      "\u001b[36mFile \u001b[39m\u001b[32m/opt/homebrew/Caskroom/miniconda/base/envs/ecg_precise/lib/python3.13/site-packages/torch/autograd/__init__.py:353\u001b[39m, in \u001b[36mbackward\u001b[39m\u001b[34m(tensors, grad_tensors, retain_graph, create_graph, grad_variables, inputs)\u001b[39m\n\u001b[32m    348\u001b[39m     retain_graph = create_graph\n\u001b[32m    350\u001b[39m \u001b[38;5;66;03m# The reason we repeat the same comment below is that\u001b[39;00m\n\u001b[32m    351\u001b[39m \u001b[38;5;66;03m# some Python versions print out the first line of a multi-line function\u001b[39;00m\n\u001b[32m    352\u001b[39m \u001b[38;5;66;03m# calls in the traceback and some print out the last line\u001b[39;00m\n\u001b[32m--> \u001b[39m\u001b[32m353\u001b[39m \u001b[43m_engine_run_backward\u001b[49m\u001b[43m(\u001b[49m\n\u001b[32m    354\u001b[39m \u001b[43m    \u001b[49m\u001b[43mtensors\u001b[49m\u001b[43m,\u001b[49m\n\u001b[32m    355\u001b[39m \u001b[43m    \u001b[49m\u001b[43mgrad_tensors_\u001b[49m\u001b[43m,\u001b[49m\n\u001b[32m    356\u001b[39m \u001b[43m    \u001b[49m\u001b[43mretain_graph\u001b[49m\u001b[43m,\u001b[49m\n\u001b[32m    357\u001b[39m \u001b[43m    \u001b[49m\u001b[43mcreate_graph\u001b[49m\u001b[43m,\u001b[49m\n\u001b[32m    358\u001b[39m \u001b[43m    \u001b[49m\u001b[43minputs\u001b[49m\u001b[43m,\u001b[49m\n\u001b[32m    359\u001b[39m \u001b[43m    \u001b[49m\u001b[43mallow_unreachable\u001b[49m\u001b[43m=\u001b[49m\u001b[38;5;28;43;01mTrue\u001b[39;49;00m\u001b[43m,\u001b[49m\n\u001b[32m    360\u001b[39m \u001b[43m    \u001b[49m\u001b[43maccumulate_grad\u001b[49m\u001b[43m=\u001b[49m\u001b[38;5;28;43;01mTrue\u001b[39;49;00m\u001b[43m,\u001b[49m\n\u001b[32m    361\u001b[39m \u001b[43m\u001b[49m\u001b[43m)\u001b[49m\n",
      "\u001b[36mFile \u001b[39m\u001b[32m/opt/homebrew/Caskroom/miniconda/base/envs/ecg_precise/lib/python3.13/site-packages/torch/autograd/graph.py:824\u001b[39m, in \u001b[36m_engine_run_backward\u001b[39m\u001b[34m(t_outputs, *args, **kwargs)\u001b[39m\n\u001b[32m    822\u001b[39m     unregister_hooks = _register_logging_hooks_on_whole_graph(t_outputs)\n\u001b[32m    823\u001b[39m \u001b[38;5;28;01mtry\u001b[39;00m:\n\u001b[32m--> \u001b[39m\u001b[32m824\u001b[39m     \u001b[38;5;28;01mreturn\u001b[39;00m \u001b[43mVariable\u001b[49m\u001b[43m.\u001b[49m\u001b[43m_execution_engine\u001b[49m\u001b[43m.\u001b[49m\u001b[43mrun_backward\u001b[49m\u001b[43m(\u001b[49m\u001b[43m  \u001b[49m\u001b[38;5;66;43;03m# Calls into the C++ engine to run the backward pass\u001b[39;49;00m\n\u001b[32m    825\u001b[39m \u001b[43m        \u001b[49m\u001b[43mt_outputs\u001b[49m\u001b[43m,\u001b[49m\u001b[43m \u001b[49m\u001b[43m*\u001b[49m\u001b[43margs\u001b[49m\u001b[43m,\u001b[49m\u001b[43m \u001b[49m\u001b[43m*\u001b[49m\u001b[43m*\u001b[49m\u001b[43mkwargs\u001b[49m\n\u001b[32m    826\u001b[39m \u001b[43m    \u001b[49m\u001b[43m)\u001b[49m  \u001b[38;5;66;03m# Calls into the C++ engine to run the backward pass\u001b[39;00m\n\u001b[32m    827\u001b[39m \u001b[38;5;28;01mfinally\u001b[39;00m:\n\u001b[32m    828\u001b[39m     \u001b[38;5;28;01mif\u001b[39;00m attach_logging_hooks:\n",
      "\u001b[31mKeyboardInterrupt\u001b[39m: "
     ]
    }
   ],
   "source": [
    "num_epochs = 1000\n",
    "\n",
    "for epoch in range(num_epochs):\n",
    "    # Forward pass\n",
    "    outputs = model(x_tensor)\n",
    "    loss = criterion(outputs, y_tensor)\n",
    "\n",
    "    # Backward and optimize\n",
    "    optimizer.zero_grad() # Clear gradients from previous iteration\n",
    "    loss.backward()       # Compute gradients\n",
    "    optimizer.step()      # Update model parameters\n",
    "\n",
    "    if (epoch + 1) % 100 == 0:\n",
    "        print(f'Epoch [{epoch+1}/{num_epochs}], Loss: {loss.item():.4f}')\n",
    "\n"
   ]
  },
  {
   "cell_type": "code",
   "execution_count": null,
   "id": "736dd10e",
   "metadata": {},
   "outputs": [],
   "source": [
    "model_weights = model.state_dict()"
   ]
  },
  {
   "cell_type": "code",
   "execution_count": null,
   "id": "245631e4",
   "metadata": {},
   "outputs": [],
   "source": [
    "model_weights"
   ]
  },
  {
   "cell_type": "code",
   "execution_count": null,
   "id": "a23e4a44",
   "metadata": {},
   "outputs": [],
   "source": [
    "with torch.no_grad():  # Disable gradient calculation for inference\n",
    "    prediction = model(x_tensor)"
   ]
  },
  {
   "cell_type": "code",
   "execution_count": null,
   "id": "b9b64413",
   "metadata": {},
   "outputs": [],
   "source": [
    "plt.scatter(y_tensor,\n",
    "            prediction)\n",
    "plt.show()"
   ]
  },
  {
   "cell_type": "code",
   "execution_count": null,
   "id": "c1097752",
   "metadata": {},
   "outputs": [],
   "source": [
    "plt.scatter(true_conv1_weights.flatten(),\n",
    "            model_weights['conv1.weight'].flatten())\n",
    "plt.show()"
   ]
  },
  {
   "cell_type": "code",
   "execution_count": null,
   "id": "b2ad436b",
   "metadata": {},
   "outputs": [],
   "source": []
  }
 ],
 "metadata": {
  "kernelspec": {
   "display_name": "ecg_precise",
   "language": "python",
   "name": "python3"
  },
  "language_info": {
   "codemirror_mode": {
    "name": "ipython",
    "version": 3
   },
   "file_extension": ".py",
   "mimetype": "text/x-python",
   "name": "python",
   "nbconvert_exporter": "python",
   "pygments_lexer": "ipython3",
   "version": "3.13.5"
  }
 },
 "nbformat": 4,
 "nbformat_minor": 5
}
