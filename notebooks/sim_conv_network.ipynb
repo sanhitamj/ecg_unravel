{
 "cells": [
  {
   "cell_type": "markdown",
   "id": "63b5cff8",
   "metadata": {},
   "source": [
    "# Simulate a Convolutional Neural Network\n",
    "\n",
    "Simulate data from a CNN in 1 dimension. Then, fit a CNN model\n",
    "to the data to determine whether we can recover the true parameters."
   ]
  },
  {
   "cell_type": "code",
   "execution_count": null,
   "id": "9ce5733e",
   "metadata": {},
   "outputs": [],
   "source": [
    "import numpy as np\n",
    "\n",
    "import torch\n",
    "import torch.nn as nn\n",
    "import torch.optim as optim\n",
    "\n",
    "import matplotlib.pyplot as plt"
   ]
  },
  {
   "cell_type": "code",
   "execution_count": null,
   "id": "bb66f57b",
   "metadata": {},
   "outputs": [],
   "source": [
    "np.random.seed(1337)"
   ]
  },
  {
   "cell_type": "code",
   "execution_count": null,
   "id": "ff100ee4",
   "metadata": {},
   "outputs": [],
   "source": [
    "# Generate the X tensor. Each observation has n_channels_in * n_vector_elements observations.\n",
    "n_channels_in = 2\n",
    "n_vector_elements = 5\n",
    "n_observations = 100\n",
    "\n",
    "x = np.random.normal(0, 1, size=[n_observations, n_channels_in, n_vector_elements])\n",
    "x_tensor = torch.Tensor(x)\n",
    "\n",
    "# Define the constants governing the hidden layer\n",
    "kernel_size = 3\n",
    "n_channels_out = 4"
   ]
  },
  {
   "cell_type": "code",
   "execution_count": null,
   "id": "325c4901",
   "metadata": {},
   "outputs": [],
   "source": [
    "x_tensor.shape"
   ]
  },
  {
   "cell_type": "code",
   "execution_count": null,
   "id": "4c914479",
   "metadata": {},
   "outputs": [],
   "source": [
    "# Generate some true weights and biases.\n",
    "true_conv1_weights = np.random.normal(0, 1, [n_channels_out, n_channels_in, kernel_size])\n",
    "true_lin_weights = np.random.normal(0, 1, n_channels_out * n_vector_elements)\n",
    "true_lin_bias = -0.5"
   ]
  },
  {
   "cell_type": "code",
   "execution_count": null,
   "id": "c4cf75b6",
   "metadata": {},
   "outputs": [],
   "source": [
    "\n",
    "# Make an empty hidden layer to hold the convolution output.\n",
    "z = np.zeros((n_observations, n_channels_out, n_vector_elements))\n",
    "\n",
    "padding = int((kernel_size - 1) / 2)\n",
    "\n",
    "# Calculate the values of the hidden layer one element at a time.\n",
    "for obs in range(n_observations):\n",
    "    # Pad only in the dimension of the vector elements\n",
    "    x_padded = np.pad(x[obs, :, :], padding)[padding:(n_channels_in + padding), :]\n",
    "    for out_channel in range(n_channels_out):\n",
    "        for kernel_center in range(n_vector_elements):\n",
    "            z[obs, out_channel, kernel_center] = (\n",
    "                x_padded[:, (kernel_center):(kernel_center + 2 * padding + 1)]\n",
    "                * true_conv1_weights[out_channel, :, :]\n",
    "            ).sum()\n",
    "\n",
    "# Flatten z\n",
    "z = z.reshape((n_observations, n_channels_out * n_vector_elements))\n",
    "\n",
    "# Apply linear transformation layer\n",
    "true_lin_weights_tiled = np.tile(true_lin_weights, n_observations).reshape(n_observations, n_channels_out * n_vector_elements)\n",
    "y = true_lin_bias + (true_lin_weights_tiled * z).sum(axis=1)\n"
   ]
  },
  {
   "cell_type": "code",
   "execution_count": null,
   "id": "467e1567",
   "metadata": {},
   "outputs": [],
   "source": [
    "y = y + np.random.normal(0, 1, n_observations)  # Add random noise\n",
    "y_tensor = torch.Tensor(y)"
   ]
  },
  {
   "cell_type": "code",
   "execution_count": null,
   "id": "9aaf8bcf",
   "metadata": {},
   "outputs": [],
   "source": [
    "def _padding(downsample, kernel_size):\n",
    "    \"\"\"Compute required padding\"\"\"\n",
    "    padding = max(0, int(np.floor((kernel_size - downsample + 1) / 2)))\n",
    "    print(f\"Padding: {padding}\")\n",
    "    return padding\n",
    "\n",
    "class ConvNN(nn.Module):\n",
    "    def __init__(self, n_channels_in, n_channels_out, kernel_size, dropout_rate):\n",
    "        super(ConvNN, self).__init__()\n",
    "        padding = _padding(1, kernel_size)\n",
    "        self.conv1 = nn.Conv1d(in_channels=n_channels_in, \n",
    "                               out_channels=n_channels_out,\n",
    "                               kernel_size=kernel_size,\n",
    "                               padding=padding,\n",
    "                               bias=False)\n",
    "        self.bn1 = nn.BatchNorm1d(n_channels_out)\n",
    "        self.relu = nn.ReLU()\n",
    "        self.dropout1 = nn.Dropout(dropout_rate)\n",
    "        self.lin = nn.Linear(n_channels_out * n_vector_elements, 1)\n",
    "\n",
    "    def forward(self, x):\n",
    "        out = self.conv1(x)\n",
    "        out = self.bn1(out)\n",
    "        out = self.relu(out)\n",
    "        out = self.dropout1(out)\n",
    "\n",
    "        # Flatten array\n",
    "        out = out.view(out.size(0), -1)\n",
    "\n",
    "        out = self.lin(out)\n",
    "\n",
    "        return out\n"
   ]
  },
  {
   "cell_type": "code",
   "execution_count": null,
   "id": "596e334d",
   "metadata": {},
   "outputs": [],
   "source": [
    "model = ConvNN(n_channels_in=n_channels_in,\n",
    "               n_channels_out=n_channels_out,\n",
    "               kernel_size=kernel_size,\n",
    "               dropout_rate=0.25)\n",
    "criterion = nn.MSELoss()  # Mean Squared Error Loss for regression\n",
    "optimizer = optim.SGD(model.parameters(), lr=0.001) # Stochastic Gradient Descent\n"
   ]
  },
  {
   "cell_type": "code",
   "execution_count": null,
   "id": "6930dd61",
   "metadata": {},
   "outputs": [],
   "source": [
    "num_epochs = 10_000\n",
    "\n",
    "for epoch in range(num_epochs):\n",
    "    # Forward pass\n",
    "    outputs = model(x_tensor)\n",
    "    loss = criterion(outputs, y_tensor)\n",
    "\n",
    "    # Backward and optimize\n",
    "    optimizer.zero_grad() # Clear gradients from previous iteration\n",
    "    loss.backward()       # Compute gradients\n",
    "    optimizer.step()      # Update model parameters\n",
    "\n",
    "    if (epoch + 1) % 100 == 0:\n",
    "        print(f'Epoch [{epoch+1}/{num_epochs}], Loss: {loss.item():.4f}')\n",
    "\n"
   ]
  },
  {
   "cell_type": "code",
   "execution_count": null,
   "id": "736dd10e",
   "metadata": {},
   "outputs": [],
   "source": [
    "model_weights = model.state_dict()"
   ]
  },
  {
   "cell_type": "code",
   "execution_count": null,
   "id": "245631e4",
   "metadata": {},
   "outputs": [],
   "source": [
    "model_weights"
   ]
  },
  {
   "cell_type": "code",
   "execution_count": null,
   "id": "a23e4a44",
   "metadata": {},
   "outputs": [],
   "source": [
    "with torch.no_grad():  # Disable gradient calculation for inference\n",
    "    prediction = model(x_tensor)"
   ]
  },
  {
   "cell_type": "code",
   "execution_count": null,
   "id": "b9b64413",
   "metadata": {},
   "outputs": [],
   "source": [
    "plt.scatter(y_tensor,\n",
    "            prediction)\n",
    "plt.show()"
   ]
  },
  {
   "cell_type": "code",
   "execution_count": null,
   "id": "c1097752",
   "metadata": {},
   "outputs": [],
   "source": [
    "plt.scatter(true_conv1_weights.flatten(),\n",
    "            model_weights['conv1.weight'].flatten())\n",
    "plt.show()"
   ]
  },
  {
   "cell_type": "code",
   "execution_count": null,
   "id": "b2ad436b",
   "metadata": {},
   "outputs": [],
   "source": []
  }
 ],
 "metadata": {
  "kernelspec": {
   "display_name": "ecg_precise",
   "language": "python",
   "name": "python3"
  },
  "language_info": {
   "codemirror_mode": {
    "name": "ipython",
    "version": 3
   },
   "file_extension": ".py",
   "mimetype": "text/x-python",
   "name": "python",
   "nbconvert_exporter": "python",
   "pygments_lexer": "ipython3",
   "version": "3.13.5"
  }
 },
 "nbformat": 4,
 "nbformat_minor": 5
}
