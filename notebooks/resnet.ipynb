{
 "cells": [
  {
   "cell_type": "code",
   "execution_count": 1,
   "id": "2de920f0-ecde-4180-ac9d-917dddc8ae00",
   "metadata": {},
   "outputs": [],
   "source": [
    "import sys\n",
    "sys.path.append(\"../\")\n",
    "\n",
    "%load_ext autoreload\n",
    "%autoreload 2"
   ]
  },
  {
   "cell_type": "code",
   "execution_count": 2,
   "id": "adfdb171-0ea6-4f0a-9ca4-c006dcd08780",
   "metadata": {},
   "outputs": [],
   "source": [
    "from train_args import train_model"
   ]
  },
  {
   "cell_type": "code",
   "execution_count": 3,
   "id": "531bd517-328e-4d28-82ac-5df63ca8ce97",
   "metadata": {},
   "outputs": [],
   "source": [
    "arguments = {\n",
    "    \"epochs\": 70,\n",
    "    \"seed\": 2,\n",
    "    \"sample_freq\": 400,\n",
    "    \"seq_length\": 4096,\n",
    "    \"scale_multiplier\": 10,\n",
    "    \"batch_size\": 32,\n",
    "    \"lr\": 0.001,\n",
    "    \"patience\": 7,\n",
    "    \"min_lr\": 1e-7,\n",
    "    \"lr_factor\": 0.1,\n",
    "    \"net_filter_size\": [64, 128, 196, 256, 320],\n",
    "    \"net_seq_length\": [4096, 1024, 256, 64, 16],\n",
    "    \"dropout_rate\": 0.8,\n",
    "    \"kernel_size\": 17,\n",
    "    \"folder\": \"model/\",\n",
    "    \"traces_dset\": \"tracings\",\n",
    "    \"ids_dset\": '',\n",
    "    \"age_col\": \"age\",\n",
    "    \"ids_col\": None,\n",
    "    \"cuda\": \"store_true\",\n",
    "    \"n_valid\": 100,\n",
    "    \"device\": \"cpu\",\n",
    "    \"path_to_traces\": \"/home/sanhita/ecg/ecg_unravel/data/exams_part16.hdf5\",\n",
    "    \"path_to_csv\": \"/home/sanhita/ecg/ecg_unravel/data/exams_bak.csv\"\n",
    "}\n"
   ]
  },
  {
   "cell_type": "code",
   "execution_count": null,
   "id": "bfe31157-cbbe-45d4-a341-1b2f37e1d712",
   "metadata": {},
   "outputs": [],
   "source": []
  },
  {
   "cell_type": "code",
   "execution_count": 5,
   "id": "6c73b07e-2c06-4c7e-9a7c-f970212964a9",
   "metadata": {},
   "outputs": [
    {
     "name": "stderr",
     "output_type": "stream",
     "text": [
      "Epoch  0: train - Loss: 2315.629395:   0%|                                                                                                | 1/10803 [00:31<8:41:50,  2.90s/it]"
     ]
    },
    {
     "name": "stdout",
     "output_type": "stream",
     "text": [
      "Building data loaders...\n"
     ]
    },
    {
     "name": "stderr",
     "output_type": "stream",
     "text": [
      "Epoch  0: train - Loss: 2315.629395:   0%|                                                                                                | 1/10803 [00:32<8:41:50,  2.90s/it]"
     ]
    },
    {
     "name": "stdout",
     "output_type": "stream",
     "text": [
      "Done!\n",
      "Define model...\n",
      "n_filters_in: 12\n",
      "n_filters_out: 64\n",
      "n_samples_in: 4096\n",
      "n_samples_out: 4096\n",
      "downsample: 1\n",
      "padding: 8\n",
      "self.conv1: <class 'torch.nn.modules.conv.Conv1d'>\n",
      "model\n",
      "ResNet1d(\n",
      "  (conv1): Conv1d(12, 64, kernel_size=(17,), stride=(1,), padding=(8,), bias=False)\n",
      "  (bn1): BatchNorm1d(64, eps=1e-05, momentum=0.1, affine=True, track_running_stats=True)\n",
      "  (resblock1d_0): ResBlock1d(\n",
      "    (conv1): Conv1d(64, 64, kernel_size=(17,), stride=(1,), padding=(8,), bias=False)\n",
      "    (bn1): BatchNorm1d(64, eps=1e-05, momentum=0.1, affine=True, track_running_stats=True)\n",
      "    (relu): ReLU()\n",
      "    (dropout1): Dropout(p=0.8, inplace=False)\n",
      "    (conv2): Conv1d(64, 64, kernel_size=(17,), stride=(1,), padding=(8,), bias=False)\n",
      "    (bn2): BatchNorm1d(64, eps=1e-05, momentum=0.1, affine=True, track_running_stats=True)\n",
      "    (dropout2): Dropout(p=0.8, inplace=False)\n",
      "  )\n",
      "  (resblock1d_1): ResBlock1d(\n",
      "    (conv1): Conv1d(64, 128, kernel_size=(17,), stride=(1,), padding=(8,), bias=False)\n",
      "    (bn1): BatchNorm1d(128, eps=1e-05, momentum=0.1, affine=True, track_running_stats=True)\n",
      "    (relu): ReLU()\n",
      "    (dropout1): Dropout(p=0.8, inplace=False)\n",
      "    (conv2): Conv1d(128, 128, kernel_size=(17,), stride=(4,), padding=(7,), bias=False)\n",
      "    (bn2): BatchNorm1d(128, eps=1e-05, momentum=0.1, affine=True, track_running_stats=True)\n",
      "    (dropout2): Dropout(p=0.8, inplace=False)\n",
      "    (skip_connection): Sequential(\n",
      "      (0): MaxPool1d(kernel_size=4, stride=4, padding=0, dilation=1, ceil_mode=False)\n",
      "      (1): Conv1d(64, 128, kernel_size=(1,), stride=(1,), bias=False)\n",
      "    )\n",
      "  )\n",
      "  (resblock1d_2): ResBlock1d(\n",
      "    (conv1): Conv1d(128, 196, kernel_size=(17,), stride=(1,), padding=(8,), bias=False)\n",
      "    (bn1): BatchNorm1d(196, eps=1e-05, momentum=0.1, affine=True, track_running_stats=True)\n",
      "    (relu): ReLU()\n",
      "    (dropout1): Dropout(p=0.8, inplace=False)\n",
      "    (conv2): Conv1d(196, 196, kernel_size=(17,), stride=(4,), padding=(7,), bias=False)\n",
      "    (bn2): BatchNorm1d(196, eps=1e-05, momentum=0.1, affine=True, track_running_stats=True)\n",
      "    (dropout2): Dropout(p=0.8, inplace=False)\n",
      "    (skip_connection): Sequential(\n",
      "      (0): MaxPool1d(kernel_size=4, stride=4, padding=0, dilation=1, ceil_mode=False)\n",
      "      (1): Conv1d(128, 196, kernel_size=(1,), stride=(1,), bias=False)\n",
      "    )\n",
      "  )\n",
      "  (resblock1d_3): ResBlock1d(\n",
      "    (conv1): Conv1d(196, 256, kernel_size=(17,), stride=(1,), padding=(8,), bias=False)\n",
      "    (bn1): BatchNorm1d(256, eps=1e-05, momentum=0.1, affine=True, track_running_stats=True)\n",
      "    (relu): ReLU()\n",
      "    (dropout1): Dropout(p=0.8, inplace=False)\n",
      "    (conv2): Conv1d(256, 256, kernel_size=(17,), stride=(4,), padding=(7,), bias=False)\n",
      "    (bn2): BatchNorm1d(256, eps=1e-05, momentum=0.1, affine=True, track_running_stats=True)\n",
      "    (dropout2): Dropout(p=0.8, inplace=False)\n",
      "    (skip_connection): Sequential(\n",
      "      (0): MaxPool1d(kernel_size=4, stride=4, padding=0, dilation=1, ceil_mode=False)\n",
      "      (1): Conv1d(196, 256, kernel_size=(1,), stride=(1,), bias=False)\n",
      "    )\n",
      "  )\n",
      "  (resblock1d_4): ResBlock1d(\n",
      "    (conv1): Conv1d(256, 320, kernel_size=(17,), stride=(1,), padding=(8,), bias=False)\n",
      "    (bn1): BatchNorm1d(320, eps=1e-05, momentum=0.1, affine=True, track_running_stats=True)\n",
      "    (relu): ReLU()\n",
      "    (dropout1): Dropout(p=0.8, inplace=False)\n",
      "    (conv2): Conv1d(320, 320, kernel_size=(17,), stride=(4,), padding=(7,), bias=False)\n",
      "    (bn2): BatchNorm1d(320, eps=1e-05, momentum=0.1, affine=True, track_running_stats=True)\n",
      "    (dropout2): Dropout(p=0.8, inplace=False)\n",
      "    (skip_connection): Sequential(\n",
      "      (0): MaxPool1d(kernel_size=4, stride=4, padding=0, dilation=1, ceil_mode=False)\n",
      "      (1): Conv1d(256, 320, kernel_size=(1,), stride=(1,), bias=False)\n",
      "    )\n",
      "  )\n",
      "  (lin): Linear(in_features=5120, out_features=1, bias=True)\n",
      ")\n",
      "Done!\n",
      "Define optimizer...\n",
      "Done!\n",
      "Define scheduler...\n",
      "Done!\n",
      "Training...\n",
      "<class 'dataloader.BatchDataloader'>\n",
      "<dataloader.BatchDataloader object at 0x71e59f664410>\n"
     ]
    },
    {
     "name": "stderr",
     "output_type": "stream",
     "text": [
      "Epoch  0: train - Loss: 0.000000:   0%|                                                                                                             | 0/10803 [00:00<?, ?it/s]"
     ]
    },
    {
     "name": "stdout",
     "output_type": "stream",
     "text": [
      "start: torch.Size([32, 12, 4096])\n",
      "After conv1d: torch.Size([32, 64, 4096])\n",
      "bn1: torch.Size([32, 64, 4096])\n",
      "ResBlock1d input: torch.Size([32, 64, 4096])\n",
      "ResBlock1d after conv1: torch.Size([32, 64, 4096])\n",
      "ResBlock1d after relu: torch.Size([32, 64, 4096])\n",
      "ResBlock1d after dropout: torch.Size([32, 64, 4096])\n",
      "ResBlock1d after conv2: torch.Size([32, 64, 4096])\n",
      "ResBlock1d return: torch.Size([32, 64, 4096])\n",
      "ResBlock1d input: torch.Size([32, 64, 4096])\n",
      "ResBlock1d after conv1: torch.Size([32, 128, 4096])\n",
      "ResBlock1d after relu: torch.Size([32, 128, 4096])\n",
      "ResBlock1d after dropout: torch.Size([32, 128, 4096])\n",
      "ResBlock1d after conv2: torch.Size([32, 128, 1024])\n",
      "ResBlock1d return: torch.Size([32, 128, 1024])\n",
      "ResBlock1d input: torch.Size([32, 128, 1024])\n",
      "ResBlock1d after conv1: torch.Size([32, 196, 1024])\n",
      "ResBlock1d after relu: torch.Size([32, 196, 1024])\n",
      "ResBlock1d after dropout: torch.Size([32, 196, 1024])\n",
      "ResBlock1d after conv2: torch.Size([32, 196, 256])\n",
      "ResBlock1d return: torch.Size([32, 196, 256])\n",
      "ResBlock1d input: torch.Size([32, 196, 256])\n",
      "ResBlock1d after conv1: torch.Size([32, 256, 256])\n",
      "ResBlock1d after relu: torch.Size([32, 256, 256])\n",
      "ResBlock1d after dropout: torch.Size([32, 256, 256])\n",
      "ResBlock1d after conv2: torch.Size([32, 256, 64])\n",
      "ResBlock1d return: torch.Size([32, 256, 64])\n",
      "ResBlock1d input: torch.Size([32, 256, 64])\n",
      "ResBlock1d after conv1: torch.Size([32, 320, 64])\n",
      "ResBlock1d after relu: torch.Size([32, 320, 64])\n",
      "ResBlock1d after dropout: torch.Size([32, 320, 64])\n",
      "ResBlock1d after conv2: torch.Size([32, 320, 16])\n",
      "ResBlock1d return: torch.Size([32, 320, 16])\n",
      "x.view: torch.Size([32, 5120])\n",
      "lin: torch.Size([32, 1])\n"
     ]
    },
    {
     "name": "stderr",
     "output_type": "stream",
     "text": [
      "Epoch  0: train - Loss: 2315.629395:   0%|                                                                                                | 1/10803 [00:02<8:28:47,  2.83s/it]"
     ]
    },
    {
     "name": "stdout",
     "output_type": "stream",
     "text": [
      "start: torch.Size([32, 12, 4096])\n",
      "After conv1d: torch.Size([32, 64, 4096])\n",
      "bn1: torch.Size([32, 64, 4096])\n",
      "ResBlock1d input: torch.Size([32, 64, 4096])\n",
      "ResBlock1d after conv1: torch.Size([32, 64, 4096])\n",
      "ResBlock1d after relu: torch.Size([32, 64, 4096])\n",
      "ResBlock1d after dropout: torch.Size([32, 64, 4096])\n",
      "ResBlock1d after conv2: torch.Size([32, 64, 4096])\n",
      "ResBlock1d return: torch.Size([32, 64, 4096])\n",
      "ResBlock1d input: torch.Size([32, 64, 4096])\n",
      "ResBlock1d after conv1: torch.Size([32, 128, 4096])\n",
      "ResBlock1d after relu: torch.Size([32, 128, 4096])\n",
      "ResBlock1d after dropout: torch.Size([32, 128, 4096])\n",
      "ResBlock1d after conv2: torch.Size([32, 128, 1024])\n",
      "ResBlock1d return: torch.Size([32, 128, 1024])\n",
      "ResBlock1d input: torch.Size([32, 128, 1024])\n",
      "ResBlock1d after conv1: torch.Size([32, 196, 1024])\n",
      "ResBlock1d after relu: torch.Size([32, 196, 1024])\n",
      "ResBlock1d after dropout: torch.Size([32, 196, 1024])\n",
      "ResBlock1d after conv2: torch.Size([32, 196, 256])\n",
      "ResBlock1d return: torch.Size([32, 196, 256])\n",
      "ResBlock1d input: torch.Size([32, 196, 256])\n",
      "ResBlock1d after conv1: torch.Size([32, 256, 256])\n",
      "ResBlock1d after relu: torch.Size([32, 256, 256])\n",
      "ResBlock1d after dropout: torch.Size([32, 256, 256])\n",
      "ResBlock1d after conv2: torch.Size([32, 256, 64])\n",
      "ResBlock1d return: torch.Size([32, 256, 64])\n",
      "ResBlock1d input: torch.Size([32, 256, 64])\n",
      "ResBlock1d after conv1: torch.Size([32, 320, 64])\n",
      "ResBlock1d after relu: torch.Size([32, 320, 64])\n",
      "ResBlock1d after dropout: torch.Size([32, 320, 64])\n",
      "ResBlock1d after conv2: torch.Size([32, 320, 16])\n",
      "ResBlock1d return: torch.Size([32, 320, 16])\n",
      "x.view: torch.Size([32, 5120])\n",
      "lin: torch.Size([32, 1])\n"
     ]
    },
    {
     "ename": "KeyboardInterrupt",
     "evalue": "",
     "output_type": "error",
     "traceback": [
      "\u001b[31m---------------------------------------------------------------------------\u001b[39m",
      "\u001b[31mKeyboardInterrupt\u001b[39m                         Traceback (most recent call last)",
      "\u001b[36mCell\u001b[39m\u001b[36m \u001b[39m\u001b[32mIn[5]\u001b[39m\u001b[32m, line 1\u001b[39m\n\u001b[32m----> \u001b[39m\u001b[32m1\u001b[39m \u001b[43mtrain_model\u001b[49m\u001b[43m(\u001b[49m\u001b[43marguments\u001b[49m\u001b[43m)\u001b[49m\n",
      "\u001b[36mFile \u001b[39m\u001b[32m~/ecg/ecg_unravel/notebooks/../train_args.py:159\u001b[39m, in \u001b[36mtrain_model\u001b[39m\u001b[34m(arguments)\u001b[39m\n\u001b[32m    157\u001b[39m \u001b[38;5;28mprint\u001b[39m (\u001b[38;5;28mtype\u001b[39m(train_loader))\n\u001b[32m    158\u001b[39m \u001b[38;5;28mprint\u001b[39m (train_loader)\n\u001b[32m--> \u001b[39m\u001b[32m159\u001b[39m train_loss = \u001b[43mtrain\u001b[49m\u001b[43m(\u001b[49m\u001b[43mmodel\u001b[49m\u001b[43m=\u001b[49m\u001b[43mmodel\u001b[49m\u001b[43m,\u001b[49m\u001b[43m \u001b[49m\u001b[43moptimizer\u001b[49m\u001b[43m=\u001b[49m\u001b[43moptimizer\u001b[49m\u001b[43m,\u001b[49m\u001b[43m \u001b[49m\u001b[43mep\u001b[49m\u001b[43m=\u001b[49m\u001b[43mep\u001b[49m\u001b[43m,\u001b[49m\u001b[43m \u001b[49m\u001b[43mdataload\u001b[49m\u001b[43m=\u001b[49m\u001b[43mtrain_loader\u001b[49m\u001b[43m)\u001b[49m\n\u001b[32m    160\u001b[39m valid_loss = \u001b[38;5;28meval\u001b[39m(model, ep, valid_loader)\n\u001b[32m    161\u001b[39m \u001b[38;5;66;03m# Save best model\u001b[39;00m\n",
      "\u001b[36mFile \u001b[39m\u001b[32m~/ecg/ecg_unravel/notebooks/../train_args.py:48\u001b[39m, in \u001b[36mtrain\u001b[39m\u001b[34m(model, optimizer, ep, dataload)\u001b[39m\n\u001b[32m     46\u001b[39m loss = compute_loss(ages, pred_ages, weights)\n\u001b[32m     47\u001b[39m \u001b[38;5;66;03m# Backward pass\u001b[39;00m\n\u001b[32m---> \u001b[39m\u001b[32m48\u001b[39m \u001b[43mloss\u001b[49m\u001b[43m.\u001b[49m\u001b[43mbackward\u001b[49m\u001b[43m(\u001b[49m\u001b[43m)\u001b[49m\n\u001b[32m     49\u001b[39m \u001b[38;5;66;03m# Optimize\u001b[39;00m\n\u001b[32m     51\u001b[39m optimizer.step()\n",
      "\u001b[36mFile \u001b[39m\u001b[32m~/miniforge3/envs/ecg/lib/python3.13/site-packages/torch/_tensor.py:648\u001b[39m, in \u001b[36mTensor.backward\u001b[39m\u001b[34m(self, gradient, retain_graph, create_graph, inputs)\u001b[39m\n\u001b[32m    638\u001b[39m \u001b[38;5;28;01mif\u001b[39;00m has_torch_function_unary(\u001b[38;5;28mself\u001b[39m):\n\u001b[32m    639\u001b[39m     \u001b[38;5;28;01mreturn\u001b[39;00m handle_torch_function(\n\u001b[32m    640\u001b[39m         Tensor.backward,\n\u001b[32m    641\u001b[39m         (\u001b[38;5;28mself\u001b[39m,),\n\u001b[32m   (...)\u001b[39m\u001b[32m    646\u001b[39m         inputs=inputs,\n\u001b[32m    647\u001b[39m     )\n\u001b[32m--> \u001b[39m\u001b[32m648\u001b[39m \u001b[43mtorch\u001b[49m\u001b[43m.\u001b[49m\u001b[43mautograd\u001b[49m\u001b[43m.\u001b[49m\u001b[43mbackward\u001b[49m\u001b[43m(\u001b[49m\n\u001b[32m    649\u001b[39m \u001b[43m    \u001b[49m\u001b[38;5;28;43mself\u001b[39;49m\u001b[43m,\u001b[49m\u001b[43m \u001b[49m\u001b[43mgradient\u001b[49m\u001b[43m,\u001b[49m\u001b[43m \u001b[49m\u001b[43mretain_graph\u001b[49m\u001b[43m,\u001b[49m\u001b[43m \u001b[49m\u001b[43mcreate_graph\u001b[49m\u001b[43m,\u001b[49m\u001b[43m \u001b[49m\u001b[43minputs\u001b[49m\u001b[43m=\u001b[49m\u001b[43minputs\u001b[49m\n\u001b[32m    650\u001b[39m \u001b[43m\u001b[49m\u001b[43m)\u001b[49m\n",
      "\u001b[36mFile \u001b[39m\u001b[32m~/miniforge3/envs/ecg/lib/python3.13/site-packages/torch/autograd/__init__.py:353\u001b[39m, in \u001b[36mbackward\u001b[39m\u001b[34m(tensors, grad_tensors, retain_graph, create_graph, grad_variables, inputs)\u001b[39m\n\u001b[32m    348\u001b[39m     retain_graph = create_graph\n\u001b[32m    350\u001b[39m \u001b[38;5;66;03m# The reason we repeat the same comment below is that\u001b[39;00m\n\u001b[32m    351\u001b[39m \u001b[38;5;66;03m# some Python versions print out the first line of a multi-line function\u001b[39;00m\n\u001b[32m    352\u001b[39m \u001b[38;5;66;03m# calls in the traceback and some print out the last line\u001b[39;00m\n\u001b[32m--> \u001b[39m\u001b[32m353\u001b[39m \u001b[43m_engine_run_backward\u001b[49m\u001b[43m(\u001b[49m\n\u001b[32m    354\u001b[39m \u001b[43m    \u001b[49m\u001b[43mtensors\u001b[49m\u001b[43m,\u001b[49m\n\u001b[32m    355\u001b[39m \u001b[43m    \u001b[49m\u001b[43mgrad_tensors_\u001b[49m\u001b[43m,\u001b[49m\n\u001b[32m    356\u001b[39m \u001b[43m    \u001b[49m\u001b[43mretain_graph\u001b[49m\u001b[43m,\u001b[49m\n\u001b[32m    357\u001b[39m \u001b[43m    \u001b[49m\u001b[43mcreate_graph\u001b[49m\u001b[43m,\u001b[49m\n\u001b[32m    358\u001b[39m \u001b[43m    \u001b[49m\u001b[43minputs\u001b[49m\u001b[43m,\u001b[49m\n\u001b[32m    359\u001b[39m \u001b[43m    \u001b[49m\u001b[43mallow_unreachable\u001b[49m\u001b[43m=\u001b[49m\u001b[38;5;28;43;01mTrue\u001b[39;49;00m\u001b[43m,\u001b[49m\n\u001b[32m    360\u001b[39m \u001b[43m    \u001b[49m\u001b[43maccumulate_grad\u001b[49m\u001b[43m=\u001b[49m\u001b[38;5;28;43;01mTrue\u001b[39;49;00m\u001b[43m,\u001b[49m\n\u001b[32m    361\u001b[39m \u001b[43m\u001b[49m\u001b[43m)\u001b[49m\n",
      "\u001b[36mFile \u001b[39m\u001b[32m~/miniforge3/envs/ecg/lib/python3.13/site-packages/torch/autograd/graph.py:824\u001b[39m, in \u001b[36m_engine_run_backward\u001b[39m\u001b[34m(t_outputs, *args, **kwargs)\u001b[39m\n\u001b[32m    822\u001b[39m     unregister_hooks = _register_logging_hooks_on_whole_graph(t_outputs)\n\u001b[32m    823\u001b[39m \u001b[38;5;28;01mtry\u001b[39;00m:\n\u001b[32m--> \u001b[39m\u001b[32m824\u001b[39m     \u001b[38;5;28;01mreturn\u001b[39;00m \u001b[43mVariable\u001b[49m\u001b[43m.\u001b[49m\u001b[43m_execution_engine\u001b[49m\u001b[43m.\u001b[49m\u001b[43mrun_backward\u001b[49m\u001b[43m(\u001b[49m\u001b[43m  \u001b[49m\u001b[38;5;66;43;03m# Calls into the C++ engine to run the backward pass\u001b[39;49;00m\n\u001b[32m    825\u001b[39m \u001b[43m        \u001b[49m\u001b[43mt_outputs\u001b[49m\u001b[43m,\u001b[49m\u001b[43m \u001b[49m\u001b[43m*\u001b[49m\u001b[43margs\u001b[49m\u001b[43m,\u001b[49m\u001b[43m \u001b[49m\u001b[43m*\u001b[49m\u001b[43m*\u001b[49m\u001b[43mkwargs\u001b[49m\n\u001b[32m    826\u001b[39m \u001b[43m    \u001b[49m\u001b[43m)\u001b[49m  \u001b[38;5;66;03m# Calls into the C++ engine to run the backward pass\u001b[39;00m\n\u001b[32m    827\u001b[39m \u001b[38;5;28;01mfinally\u001b[39;00m:\n\u001b[32m    828\u001b[39m     \u001b[38;5;28;01mif\u001b[39;00m attach_logging_hooks:\n",
      "\u001b[31mKeyboardInterrupt\u001b[39m: "
     ]
    }
   ],
   "source": [
    "train_model(arguments)"
   ]
  },
  {
   "cell_type": "code",
   "execution_count": null,
   "id": "9acc624d-3ef7-4025-b206-60aaabd22cb1",
   "metadata": {},
   "outputs": [],
   "source": [
    "list(zip(arguments['net_filter_size'], arguments['net_seq_length']))"
   ]
  },
  {
   "cell_type": "code",
   "execution_count": null,
   "id": "9fe15bac-66e7-4918-a529-98d622f50a83",
   "metadata": {},
   "outputs": [],
   "source": [
    "320 * 16"
   ]
  },
  {
   "cell_type": "code",
   "execution_count": null,
   "id": "9cd5d99d-f4a4-4756-955f-e5bbb39ddbc7",
   "metadata": {},
   "outputs": [],
   "source": [
    "5120 / 784"
   ]
  },
  {
   "cell_type": "code",
   "execution_count": null,
   "id": "5c087a6d-8cff-4f4c-8faa-30ef2a85db58",
   "metadata": {},
   "outputs": [],
   "source": []
  }
 ],
 "metadata": {
  "kernelspec": {
   "display_name": "Python 3 (ipykernel)",
   "language": "python",
   "name": "python3"
  },
  "language_info": {
   "codemirror_mode": {
    "name": "ipython",
    "version": 3
   },
   "file_extension": ".py",
   "mimetype": "text/x-python",
   "name": "python",
   "nbconvert_exporter": "python",
   "pygments_lexer": "ipython3",
   "version": "3.13.3"
  }
 },
 "nbformat": 4,
 "nbformat_minor": 5
}
