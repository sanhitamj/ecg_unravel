{
 "cells": [
  {
   "cell_type": "code",
   "execution_count": null,
   "id": "ee0a53c8",
   "metadata": {},
   "outputs": [],
   "source": [
    "import sys\n",
    "sys.path.append(\"../\")\n",
    "\n",
    "import h5py\n",
    "import json\n",
    "import matplotlib.pyplot as plt\n",
    "import numpy as np\n",
    "import pandas as pd\n",
    "import torch\n",
    "from train_args import train_model\n",
    "import resnet"
   ]
  },
  {
   "cell_type": "code",
   "execution_count": null,
   "id": "2cb5f60e",
   "metadata": {},
   "outputs": [],
   "source": [
    "from constants import (\n",
    "    DATA_INPUT_DIR,\n",
    "    N_LEADS,\n",
    ")"
   ]
  },
  {
   "cell_type": "code",
   "execution_count": null,
   "id": "59fb5ca0",
   "metadata": {},
   "outputs": [],
   "source": [
    "# Instantiate the model using the config.json information.\n",
    "config = '../model/config.json'\n",
    "with open(config, 'r') as f:\n",
    "    config_dict = json.load(f)\n",
    "model = resnet.ResNet1d(\n",
    "    input_dim=(N_LEADS, config_dict['seq_length']),\n",
    "    blocks_dim=list(zip(config_dict['net_filter_size'], config_dict['net_seq_lengh'])),\n",
    "    n_classes=1,\n",
    "    kernel_size=config_dict['kernel_size'],\n",
    "    dropout_rate=config_dict['dropout_rate']\n",
    ")\n"
   ]
  },
  {
   "cell_type": "code",
   "execution_count": null,
   "id": "71f0ad4a",
   "metadata": {},
   "outputs": [],
   "source": [
    "# Retrieve the state dict, which has all the coefficients\n",
    "state_dict = (torch.load('../model/model.pth',\n",
    "              weights_only=False,\n",
    "              map_location=torch.device('cpu')))"
   ]
  },
  {
   "cell_type": "code",
   "execution_count": null,
   "id": "788a49cb",
   "metadata": {},
   "outputs": [],
   "source": [
    "# Load the state dict and set the model to eval mode.\n",
    "model.load_state_dict(state_dict['model'])\n",
    "model.eval()"
   ]
  },
  {
   "cell_type": "code",
   "execution_count": null,
   "id": "4cdbe421",
   "metadata": {},
   "outputs": [],
   "source": [
    "# Read in exam metadata and limit to file 16.\n",
    "df = pd.read_csv(f'../{DATA_INPUT_DIR}/exams.csv')\n",
    "df = df[df['trace_file'] == 'exams_part16.hdf5']\n",
    "df.shape"
   ]
  },
  {
   "cell_type": "code",
   "execution_count": null,
   "id": "ab6b593b",
   "metadata": {},
   "outputs": [],
   "source": [
    "# Read in raw ECG data for file 16.\n",
    "filename = \"../data/exams_part16.hdf5\"\n",
    "with h5py.File(filename, \"r\") as f:\n",
    "    print(\"Keys in the HDF5 file:\", list(f.keys()))\n",
    "    dataset = f['tracings']\n",
    "    print(\"Dataset shape:\", dataset.shape)\n",
    "    print(\"Dataset dtype:\", dataset.dtype)\n",
    "    data_array = f['tracings'][()]\n",
    "    exam_ids = f['exam_id'][()]"
   ]
  },
  {
   "cell_type": "code",
   "execution_count": null,
   "id": "57a8bb84",
   "metadata": {},
   "outputs": [],
   "source": [
    "# Limit the number of observations we use and transpose the second and third dimesions.\n",
    "# This transposition can probably be done better.\n",
    "n = 1000\n",
    "data_array_T = np.zeros((n, data_array.shape[2], data_array.shape[1]))\n",
    "for i in range(n):\n",
    "    data_array_T[i, :, :] = data_array[i, :, :].T"
   ]
  },
  {
   "cell_type": "code",
   "execution_count": null,
   "id": "ea1e4b3c",
   "metadata": {},
   "outputs": [],
   "source": [
    "data_array_T.shape"
   ]
  },
  {
   "cell_type": "code",
   "execution_count": null,
   "id": "469908a5",
   "metadata": {},
   "outputs": [],
   "source": [
    "# Get the predictions\n",
    "device = torch.device('cuda:0' if torch.cuda.is_available() else 'cpu')\n",
    "model.to(device)\n",
    "data_array_T = torch.Tensor(data_array_T)\n",
    "model.zero_grad()\n",
    "y_pred = model(data_array_T)"
   ]
  },
  {
   "cell_type": "code",
   "execution_count": null,
   "id": "560b1427",
   "metadata": {},
   "outputs": [],
   "source": [
    "# Merge predictions back onto the metadata frame\n",
    "preds = pd.DataFrame({'exam_id': exam_ids[:n],\n",
    "                      'torch_pred': y_pred.detach().numpy().squeeze()})\n",
    "compare = df.merge(preds, on='exam_id', how='inner')"
   ]
  },
  {
   "cell_type": "code",
   "execution_count": null,
   "id": "473087e1",
   "metadata": {},
   "outputs": [],
   "source": [
    "# Plot the new predictions against the metadata predictions\n",
    "plt.scatter(compare['nn_predicted_age'], compare['torch_pred'])\n",
    "plt.xlabel('NN Predicted Age')\n",
    "plt.ylabel('Torch Predicted Age')\n",
    "plt.show()"
   ]
  },
  {
   "cell_type": "code",
   "execution_count": null,
   "id": "71eed1b8",
   "metadata": {},
   "outputs": [],
   "source": [
    "# Histogram of errors\n",
    "plt.hist(compare['nn_predicted_age'] - compare['torch_pred'])\n",
    "plt.show()"
   ]
  },
  {
   "cell_type": "code",
   "execution_count": null,
   "id": "90857cc9",
   "metadata": {},
   "outputs": [],
   "source": []
  }
 ],
 "metadata": {
  "kernelspec": {
   "display_name": "ecg_precise",
   "language": "python",
   "name": "python3"
  },
  "language_info": {
   "codemirror_mode": {
    "name": "ipython",
    "version": 3
   },
   "file_extension": ".py",
   "mimetype": "text/x-python",
   "name": "python",
   "nbconvert_exporter": "python",
   "pygments_lexer": "ipython3",
   "version": "3.13.5"
  }
 },
 "nbformat": 4,
 "nbformat_minor": 5
}
