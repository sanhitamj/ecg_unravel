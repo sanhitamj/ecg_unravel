{
 "cells": [
  {
   "cell_type": "code",
   "execution_count": 1,
   "id": "720ccc86-f12e-4bc1-89b1-da0d59ae9769",
   "metadata": {},
   "outputs": [],
   "source": [
    "import matplotlib.pyplot as plt\n",
    "import numpy as np\n",
    "\n",
    "import torch\n",
    "from torch import nn\n",
    "from torch.utils.data import DataLoader\n",
    "from torchvision import datasets\n",
    "from torchvision.transforms import ToTensor"
   ]
  },
  {
   "cell_type": "code",
   "execution_count": 2,
   "id": "ac2109e0-f54c-426e-bfae-436e7c319de5",
   "metadata": {},
   "outputs": [
    {
     "name": "stderr",
     "output_type": "stream",
     "text": [
      "100%|█████████████████████████████████████████████████████████████████████████████████████████████████████████████████████████████████████████████| 26.4M/26.4M [00:02<00:00, 10.2MB/s]\n",
      "100%|██████████████████████████████████████████████████████████████████████████████████████████████████████████████████████████████████████████████| 29.5k/29.5k [00:00<00:00, 234kB/s]\n",
      "100%|█████████████████████████████████████████████████████████████████████████████████████████████████████████████████████████████████████████████| 4.42M/4.42M [00:00<00:00, 4.43MB/s]\n",
      "100%|█████████████████████████████████████████████████████████████████████████████████████████████████████████████████████████████████████████████| 5.15k/5.15k [00:00<00:00, 16.5MB/s]\n"
     ]
    }
   ],
   "source": [
    "# Download training data from open datasets.\n",
    "training_data = datasets.FashionMNIST(\n",
    "    root=\"data\",\n",
    "    train=True,\n",
    "    download=True,\n",
    "    transform=ToTensor(),\n",
    ")\n",
    "\n",
    "# Download test data from open datasets.\n",
    "test_data = datasets.FashionMNIST(\n",
    "    root=\"data\",\n",
    "    train=False,\n",
    "    download=True,\n",
    "    transform=ToTensor(),\n",
    ")"
   ]
  },
  {
   "cell_type": "code",
   "execution_count": 3,
   "id": "674634e5-0a4c-46fc-b2ca-cbc982c34ab8",
   "metadata": {},
   "outputs": [
    {
     "data": {
      "text/plain": [
       "torchvision.datasets.mnist.FashionMNIST"
      ]
     },
     "execution_count": 3,
     "metadata": {},
     "output_type": "execute_result"
    }
   ],
   "source": [
    "type(training_data)"
   ]
  },
  {
   "cell_type": "code",
   "execution_count": 4,
   "id": "2435811a-4b10-458e-8207-3c1f27622def",
   "metadata": {},
   "outputs": [
    {
     "name": "stdout",
     "output_type": "stream",
     "text": [
      "Shape of X [N, C, H, W]: torch.Size([64, 1, 28, 28])\n",
      "Shape of y: torch.Size([64]) torch.int64\n"
     ]
    }
   ],
   "source": [
    "batch_size = 64\n",
    "\n",
    "# Create data loaders.\n",
    "train_dataloader = DataLoader(training_data, batch_size=batch_size)\n",
    "test_dataloader = DataLoader(test_data, batch_size=batch_size)\n",
    "\n",
    "for X, y in test_dataloader:\n",
    "    print(f\"Shape of X [N, C, H, W]: {X.shape}\")\n",
    "    print(f\"Shape of y: {y.shape} {y.dtype}\")\n",
    "    break"
   ]
  },
  {
   "cell_type": "code",
   "execution_count": 7,
   "id": "441f6e24-fc7a-4d12-9676-953438422051",
   "metadata": {},
   "outputs": [
    {
     "name": "stdout",
     "output_type": "stream",
     "text": [
      "Using cpu device\n",
      "NeuralNetwork(\n",
      "  (flatten): Flatten(start_dim=1, end_dim=-1)\n",
      "  (linear_relu_stack): Sequential(\n",
      "    (0): Linear(in_features=784, out_features=512, bias=True)\n",
      "    (1): ReLU()\n",
      "    (2): Linear(in_features=512, out_features=512, bias=True)\n",
      "    (3): ReLU()\n",
      "    (4): Linear(in_features=512, out_features=10, bias=True)\n",
      "  )\n",
      ")\n"
     ]
    }
   ],
   "source": [
    "device = torch.accelerator.current_accelerator().type if torch.accelerator.is_available() else \"cpu\"\n",
    "print(f\"Using {device} device\")\n",
    "\n",
    "# Define model\n",
    "class NeuralNetwork(nn.Module):\n",
    "    def __init__(self):\n",
    "        super().__init__()\n",
    "        self.flatten = nn.Flatten()\n",
    "        self.linear_relu_stack = nn.Sequential(\n",
    "            nn.Linear(28*28, 512),\n",
    "            nn.ReLU(),\n",
    "            nn.Linear(512, 512),\n",
    "            nn.ReLU(),\n",
    "            nn.Linear(512, 10)\n",
    "        )\n",
    "\n",
    "    def forward(self, x):\n",
    "        x = self.flatten(x)\n",
    "        logits = self.linear_relu_stack(x)\n",
    "        return logits\n",
    "\n",
    "model = NeuralNetwork().to(device)\n",
    "print(model)"
   ]
  },
  {
   "cell_type": "code",
   "execution_count": 8,
   "id": "9b2cdc21-64b5-442c-9e27-f569f2d6faf4",
   "metadata": {},
   "outputs": [],
   "source": [
    "loss_fn = nn.CrossEntropyLoss()\n",
    "optimizer = torch.optim.SGD(model.parameters(), lr=1e-3)"
   ]
  },
  {
   "cell_type": "code",
   "execution_count": 31,
   "id": "182b1cdd-2ebd-417a-b07c-89e1de823879",
   "metadata": {},
   "outputs": [],
   "source": [
    "def train(dataloader, model, loss_fn, optimizer):\n",
    "    size = len(dataloader.dataset)\n",
    "    print(f\"size of the data = {size}\")\n",
    "    model.train()\n",
    "    for batch, (X, y) in enumerate(dataloader):\n",
    "        X, y = X.to(device), y.to(device)\n",
    "\n",
    "        # Compute prediction error\n",
    "        pred = model(X)\n",
    "        loss = loss_fn(pred, y_new)\n",
    "\n",
    "        # Backpropagation\n",
    "        loss.backward()\n",
    "        optimizer.step()\n",
    "        optimizer.zero_grad()\n",
    "\n",
    "        if batch % 100 == 0:\n",
    "            loss, current = loss.item(), (batch + 1) * len(X)\n",
    "            print(f\"loss: {loss:>7f}  [{current:>5d}/{size:>5d}]\")\n",
    "    print(f\"current type {type(current)}\")\n",
    "    return X"
   ]
  },
  {
   "cell_type": "code",
   "execution_count": 10,
   "id": "a66fff49-d507-46e5-9cf5-1b32cf4df051",
   "metadata": {},
   "outputs": [],
   "source": [
    "def test(dataloader, model, loss_fn):\n",
    "    size = len(dataloader.dataset)\n",
    "    num_batches = len(dataloader)\n",
    "    model.eval()\n",
    "    test_loss, correct = 0, 0\n",
    "    with torch.no_grad():\n",
    "        for X, y in dataloader:\n",
    "            X, y = X.to(device), y.to(device)\n",
    "            pred = model(X)\n",
    "            test_loss += loss_fn(pred, y).item()\n",
    "            correct += (pred.argmax(1) == y).type(torch.float).sum().item()\n",
    "    test_loss /= num_batches\n",
    "    correct /= size\n",
    "    print(f\"Test Error: \\n Accuracy: {(100*correct):>0.1f}%, Avg loss: {test_loss:>8f} \\n\")\n",
    "    return X"
   ]
  },
  {
   "cell_type": "code",
   "execution_count": 32,
   "id": "713a4af6-25a0-419a-94ab-e013981bec60",
   "metadata": {},
   "outputs": [
    {
     "name": "stdout",
     "output_type": "stream",
     "text": [
      "Epoch 1\n",
      "-------------------------------\n",
      "size of the data = 60000\n",
      "loss: 1.165832  [   64/60000]\n",
      "loss: 1.193469  [ 6464/60000]\n",
      "loss: 1.021218  [12864/60000]\n",
      "loss: 1.160231  [19264/60000]\n",
      "loss: 1.039441  [25664/60000]\n",
      "loss: 1.088512  [32064/60000]\n",
      "loss: 1.130825  [38464/60000]\n",
      "loss: 1.096773  [44864/60000]\n",
      "loss: 1.141493  [51264/60000]\n",
      "loss: 1.073863  [57664/60000]\n",
      "current type <class 'int'>\n",
      "Test Error: \n",
      " Accuracy: 64.2%, Avg loss: 1.100244 \n",
      "\n",
      "Epoch 2\n",
      "-------------------------------\n",
      "size of the data = 60000\n",
      "loss: 1.165832  [   64/60000]\n",
      "loss: 1.193469  [ 6464/60000]\n",
      "loss: 1.021218  [12864/60000]\n",
      "loss: 1.160231  [19264/60000]\n",
      "loss: 1.039441  [25664/60000]\n",
      "loss: 1.088512  [32064/60000]\n",
      "loss: 1.130825  [38464/60000]\n",
      "loss: 1.096773  [44864/60000]\n",
      "loss: 1.141493  [51264/60000]\n",
      "loss: 1.073863  [57664/60000]\n",
      "current type <class 'int'>\n",
      "Test Error: \n",
      " Accuracy: 64.2%, Avg loss: 1.100244 \n",
      "\n",
      "Epoch 3\n",
      "-------------------------------\n",
      "size of the data = 60000\n",
      "loss: 1.165832  [   64/60000]\n",
      "loss: 1.193469  [ 6464/60000]\n",
      "loss: 1.021218  [12864/60000]\n",
      "loss: 1.160231  [19264/60000]\n",
      "loss: 1.039441  [25664/60000]\n",
      "loss: 1.088512  [32064/60000]\n",
      "loss: 1.130825  [38464/60000]\n",
      "loss: 1.096773  [44864/60000]\n",
      "loss: 1.141493  [51264/60000]\n",
      "loss: 1.073863  [57664/60000]\n",
      "current type <class 'int'>\n",
      "Test Error: \n",
      " Accuracy: 64.2%, Avg loss: 1.100244 \n",
      "\n",
      "Epoch 4\n",
      "-------------------------------\n",
      "size of the data = 60000\n",
      "loss: 1.165832  [   64/60000]\n",
      "loss: 1.193469  [ 6464/60000]\n",
      "loss: 1.021218  [12864/60000]\n",
      "loss: 1.160231  [19264/60000]\n",
      "loss: 1.039441  [25664/60000]\n",
      "loss: 1.088512  [32064/60000]\n",
      "loss: 1.130825  [38464/60000]\n",
      "loss: 1.096773  [44864/60000]\n",
      "loss: 1.141493  [51264/60000]\n",
      "loss: 1.073863  [57664/60000]\n",
      "current type <class 'int'>\n",
      "Test Error: \n",
      " Accuracy: 64.2%, Avg loss: 1.100244 \n",
      "\n",
      "Epoch 5\n",
      "-------------------------------\n",
      "size of the data = 60000\n",
      "loss: 1.165832  [   64/60000]\n",
      "loss: 1.193469  [ 6464/60000]\n",
      "loss: 1.021218  [12864/60000]\n",
      "loss: 1.160231  [19264/60000]\n",
      "loss: 1.039441  [25664/60000]\n",
      "loss: 1.088512  [32064/60000]\n",
      "loss: 1.130825  [38464/60000]\n",
      "loss: 1.096773  [44864/60000]\n",
      "loss: 1.141493  [51264/60000]\n",
      "loss: 1.073863  [57664/60000]\n",
      "current type <class 'int'>\n",
      "Test Error: \n",
      " Accuracy: 64.2%, Avg loss: 1.100244 \n",
      "\n",
      "Done!\n"
     ]
    }
   ],
   "source": [
    "epochs = 5\n",
    "for t in range(epochs):\n",
    "    print(f\"Epoch {t+1}\\n-------------------------------\")\n",
    "    re_train = train(train_dataloader, model, loss_fn, optimizer)\n",
    "    re_test = test(test_dataloader, model, loss_fn)\n",
    "print(\"Done!\")"
   ]
  },
  {
   "cell_type": "code",
   "execution_count": 12,
   "id": "ae14d0cb-6faa-4fc6-b3e6-bcfad39c9b1f",
   "metadata": {},
   "outputs": [
    {
     "name": "stdout",
     "output_type": "stream",
     "text": [
      "Saved PyTorch Model State to model.pth\n"
     ]
    }
   ],
   "source": [
    "torch.save(model.state_dict(), \"model.pth\")\n",
    "print(\"Saved PyTorch Model State to model.pth\")"
   ]
  },
  {
   "cell_type": "code",
   "execution_count": 13,
   "id": "8745a51d-2a24-4a5e-9c2b-2d4b0f62bf54",
   "metadata": {},
   "outputs": [
    {
     "data": {
      "text/plain": [
       "<All keys matched successfully>"
      ]
     },
     "execution_count": 13,
     "metadata": {},
     "output_type": "execute_result"
    }
   ],
   "source": [
    "model = NeuralNetwork().to(device)\n",
    "model.load_state_dict(torch.load(\"model.pth\", weights_only=True))"
   ]
  },
  {
   "cell_type": "code",
   "execution_count": 14,
   "id": "ad30794d-0894-4e0b-9b3d-9b058776abe4",
   "metadata": {},
   "outputs": [
    {
     "name": "stdout",
     "output_type": "stream",
     "text": [
      "Predicted: \"Ankle boot\", Actual: \"Ankle boot\"\n"
     ]
    }
   ],
   "source": [
    "classes = [\n",
    "    \"T-shirt/top\",\n",
    "    \"Trouser\",\n",
    "    \"Pullover\",\n",
    "    \"Dress\",\n",
    "    \"Coat\",\n",
    "    \"Sandal\",\n",
    "    \"Shirt\",\n",
    "    \"Sneaker\",\n",
    "    \"Bag\",\n",
    "    \"Ankle boot\",\n",
    "]\n",
    "\n",
    "model.eval()\n",
    "X, y = test_data[0][0], test_data[0][1]\n",
    "with torch.no_grad():\n",
    "    X = X.to(device)\n",
    "    pred = model(X)\n",
    "    predicted, actual = classes[pred[0].argmax(0)], classes[y]\n",
    "    print(f'Predicted: \"{predicted}\", Actual: \"{actual}\"')"
   ]
  },
  {
   "cell_type": "code",
   "execution_count": 16,
   "id": "a08fefad-2e05-47ea-8c0f-c94e99da8f85",
   "metadata": {},
   "outputs": [
    {
     "data": {
      "text/plain": [
       "torch.Size([32, 1, 28, 28])"
      ]
     },
     "execution_count": 16,
     "metadata": {},
     "output_type": "execute_result"
    }
   ],
   "source": [
    "re_train.shape"
   ]
  },
  {
   "cell_type": "code",
   "execution_count": 17,
   "id": "47b0b92f-439f-4dd9-95d1-dc2098e4f1aa",
   "metadata": {},
   "outputs": [
    {
     "data": {
      "text/plain": [
       "25088"
      ]
     },
     "execution_count": 17,
     "metadata": {},
     "output_type": "execute_result"
    }
   ],
   "source": [
    "28 * 28 * 32"
   ]
  },
  {
   "cell_type": "markdown",
   "id": "de3ce850-c178-4357-be76-481cb0d2d8ef",
   "metadata": {},
   "source": [
    "# Autoencoder"
   ]
  },
  {
   "cell_type": "code",
   "execution_count": 1,
   "id": "8bcf69af-ea0c-4f59-8367-945d55259ea4",
   "metadata": {},
   "outputs": [],
   "source": [
    "import torch\n",
    "import torch.nn as nn\n",
    "import torch.optim as optim\n",
    "import torchvision\n",
    "import torchvision.transforms as transforms\n",
    "from torch.utils.data import DataLoader\n",
    "\n",
    "# Set random seed for reproducibility\n",
    "torch.manual_seed(42)\n",
    "\n",
    "# Device configuration\n",
    "device = torch.device('cuda' if torch.cuda.is_available() else 'cpu')"
   ]
  },
  {
   "cell_type": "code",
   "execution_count": 2,
   "id": "4e79c71a-5856-47b3-8dff-e6eeb2d2ac8a",
   "metadata": {},
   "outputs": [],
   "source": [
    "# Define transforms\n",
    "transform = transforms.Compose([\n",
    "    transforms.ToTensor(),\n",
    "    transforms.Normalize((0.5,), (0.5,))\n",
    "])\n",
    "\n",
    "# Load MNIST dataset\n",
    "train_dataset = torchvision.datasets.MNIST(\n",
    "    root='./data',\n",
    "    train=True,\n",
    "    transform=transform,\n",
    "    download=True\n",
    ")\n",
    "\n",
    "train_loader = DataLoader(\n",
    "    dataset=train_dataset,\n",
    "    batch_size=128,\n",
    "    shuffle=True\n",
    ")"
   ]
  },
  {
   "cell_type": "code",
   "execution_count": 3,
   "id": "2df28198-c89c-4380-9ea9-fae0e556d830",
   "metadata": {},
   "outputs": [],
   "source": [
    "class Autoencoder(nn.Module):\n",
    "    def __init__(self, latent_dim=20):\n",
    "        super(Autoencoder, self).__init__()\n",
    "\n",
    "        # Encoder\n",
    "        self.encoder = nn.Sequential(\n",
    "            nn.Linear(28*28, 400),\n",
    "            nn.ReLU(),\n",
    "            nn.Linear(400, 200),\n",
    "            nn.ReLU(),\n",
    "            nn.Linear(200, latent_dim)\n",
    "        )\n",
    "\n",
    "        # Decoder\n",
    "        self.decoder = nn.Sequential(\n",
    "            nn.Linear(latent_dim, 200),\n",
    "            nn.ReLU(),\n",
    "            nn.Linear(200, 400),\n",
    "            nn.ReLU(),\n",
    "            nn.Linear(400, 28*28),\n",
    "            nn.Tanh()\n",
    "        )\n",
    "\n",
    "    def forward(self, x):\n",
    "        # Flatten input\n",
    "        x = x.view(x.size(0), -1)\n",
    "\n",
    "        # Get latent representation\n",
    "        latent = self.encoder(x)\n",
    "\n",
    "        # Reconstruct input\n",
    "        reconstructed = self.decoder(latent)\n",
    "\n",
    "        # Reshape to original dimensions\n",
    "        reconstructed = reconstructed.view(x.size(0), 1, 28, 28)\n",
    "        return reconstructed"
   ]
  },
  {
   "cell_type": "code",
   "execution_count": 4,
   "id": "7f956bed-8161-41b9-ae32-f17c8b57511b",
   "metadata": {},
   "outputs": [
    {
     "name": "stdout",
     "output_type": "stream",
     "text": [
      "Epoch [1/20], Average Loss: 0.1390\n",
      "Epoch [2/20], Average Loss: 0.0666\n",
      "Epoch [3/20], Average Loss: 0.0527\n",
      "Epoch [4/20], Average Loss: 0.0456\n",
      "Epoch [5/20], Average Loss: 0.0417\n",
      "Epoch [6/20], Average Loss: 0.0392\n",
      "Epoch [7/20], Average Loss: 0.0373\n",
      "Epoch [8/20], Average Loss: 0.0358\n",
      "Epoch [9/20], Average Loss: 0.0346\n",
      "Epoch [10/20], Average Loss: 0.0337\n",
      "Epoch [11/20], Average Loss: 0.0329\n",
      "Epoch [12/20], Average Loss: 0.0322\n",
      "Epoch [13/20], Average Loss: 0.0317\n",
      "Epoch [14/20], Average Loss: 0.0311\n",
      "Epoch [15/20], Average Loss: 0.0306\n",
      "Epoch [16/20], Average Loss: 0.0302\n",
      "Epoch [17/20], Average Loss: 0.0299\n",
      "Epoch [18/20], Average Loss: 0.0295\n",
      "Epoch [19/20], Average Loss: 0.0292\n",
      "Epoch [20/20], Average Loss: 0.0290\n"
     ]
    }
   ],
   "source": [
    "# Initialize model and move to device\n",
    "model = Autoencoder().to(device)\n",
    "\n",
    "# Loss function and optimizer\n",
    "criterion = nn.MSELoss()\n",
    "optimizer = optim.Adam(model.parameters(), lr=1e-3)\n",
    "\n",
    "# Training loop\n",
    "num_epochs = 20\n",
    "for epoch in range(num_epochs):\n",
    "    total_loss = 0\n",
    "    for batch_idx, (images, _) in enumerate(train_loader):\n",
    "        # Move images to device\n",
    "        images = images.to(device)\n",
    "\n",
    "        # Forward pass\n",
    "        outputs = model(images)\n",
    "        loss = criterion(outputs, images)\n",
    "\n",
    "        # Backward pass and optimize\n",
    "        optimizer.zero_grad()\n",
    "        loss.backward()\n",
    "        optimizer.step()\n",
    "\n",
    "        total_loss += loss.item()\n",
    "\n",
    "    # Print epoch statistics\n",
    "    avg_loss = total_loss / len(train_loader)\n",
    "    print(f'Epoch [{epoch+1}/{num_epochs}], Average Loss: {avg_loss:.4f}')"
   ]
  },
  {
   "cell_type": "code",
   "execution_count": 5,
   "id": "6a5683d3-0a78-4090-b1c2-93b93af71607",
   "metadata": {},
   "outputs": [
    {
     "name": "stdout",
     "output_type": "stream",
     "text": [
      "Training Set:\n",
      "\n",
      "Image batch dimensions: torch.Size([128, 1, 28, 28])\n",
      "Image label dimensions: torch.Size([128])\n",
      "tensor([6, 9, 9, 1, 3, 6, 1, 7, 5, 4])\n"
     ]
    }
   ],
   "source": [
    "# Checking the dataset\n",
    "print('Training Set:\\n')\n",
    "for images, labels in train_loader:\n",
    "    print('Image batch dimensions:', images.size())\n",
    "    print('Image label dimensions:', labels.size())\n",
    "    print(labels[:10])\n",
    "    break"
   ]
  },
  {
   "cell_type": "code",
   "execution_count": 6,
   "id": "32e7cb31-8f30-4790-95dd-73252d1fc5fc",
   "metadata": {},
   "outputs": [
    {
     "data": {
      "image/png": "[encoded data removed]",
      "text/plain": [
       "<Figure size 1500x400 with 16 Axes>"
      ]
     },
     "metadata": {},
     "output_type": "display_data"
    }
   ],
   "source": [
    "import matplotlib.pyplot as plt\n",
    "\n",
    "def visualize_reconstruction(model, data_loader):\n",
    "    model.eval()\n",
    "    with torch.no_grad():\n",
    "        images, _ = next(iter(data_loader))\n",
    "        images = images.to(device)\n",
    "        reconstructed = model(images)\n",
    "\n",
    "        # Plot original vs reconstructed images\n",
    "        fig, axes = plt.subplots(2, 8, figsize=(15, 4))\n",
    "        for i in range(8):\n",
    "            # Original images\n",
    "            axes[0,i].imshow(images[i].cpu().numpy().squeeze(), cmap='gray')\n",
    "            axes[0,i].axis('off')\n",
    "\n",
    "            # Reconstructed images\n",
    "            axes[1,i].imshow(reconstructed[i].cpu().numpy().squeeze(), cmap='gray')\n",
    "            axes[1,i].axis('off')\n",
    "\n",
    "        plt.tight_layout()\n",
    "        plt.show()\n",
    "        return reconstructed\n",
    "\n",
    "# Visualize results\n",
    "reconstructed = visualize_reconstruction(model, train_loader)"
   ]
  },
  {
   "cell_type": "code",
   "execution_count": 7,
   "id": "e8069c67-7119-4e09-bea4-3f01fd168505",
   "metadata": {},
   "outputs": [
    {
     "data": {
      "text/plain": [
       "torch.Size([28, 28])"
      ]
     },
     "execution_count": 7,
     "metadata": {},
     "output_type": "execute_result"
    }
   ],
   "source": [
    "reconstructed[0][0].shape"
   ]
  },
  {
   "cell_type": "code",
   "execution_count": 8,
   "id": "5698ea15-2ff4-4ee5-a6d1-7f26dfbd89f0",
   "metadata": {},
   "outputs": [
    {
     "data": {
      "text/plain": [
       "torch.Size([28, 28])"
      ]
     },
     "execution_count": 8,
     "metadata": {},
     "output_type": "execute_result"
    }
   ],
   "source": [
    "images[0][0].shape"
   ]
  },
  {
   "cell_type": "code",
   "execution_count": 9,
   "id": "1e2f7c08-c693-4bdc-9c17-612d3f39a0d9",
   "metadata": {},
   "outputs": [
    {
     "data": {
      "text/plain": [
       "tensor(False)"
      ]
     },
     "execution_count": 9,
     "metadata": {},
     "output_type": "execute_result"
    }
   ],
   "source": [
    "(images[0][0] == reconstructed[0][0]).all()"
   ]
  },
  {
   "cell_type": "code",
   "execution_count": 19,
   "id": "0c82d087-3b33-48c2-a91e-2f6cc9668ca9",
   "metadata": {},
   "outputs": [
    {
     "name": "stdout",
     "output_type": "stream",
     "text": [
      "images size: torch.Size([128, 1, 28, 28])\n",
      "<class 'numpy.ndarray'>\n",
      "(128, 20)\n",
      "torch.Size([128, 784])\n",
      "128 1000 128\n"
     ]
    },
    {
     "data": {
      "image/png": "[encoded data removed]",
      "text/plain": [
       "<Figure size 1000x800 with 2 Axes>"
      ]
     },
     "metadata": {},
     "output_type": "display_data"
    }
   ],
   "source": [
    "import numpy as np\n",
    "from sklearn.manifold import TSNE\n",
    "import matplotlib.pyplot as plt\n",
    "\n",
    "def visualize_latent_space(model, data_loader, n_samples=1000):\n",
    "    model.eval()\n",
    "    with torch.no_grad():\n",
    "        # Get a batch of data\n",
    "        images, labels = next(iter(data_loader))\n",
    "        images, labels = images[:n_samples], labels[:n_samples]  # Limit the number of samples\n",
    "        images = images.to(device)\n",
    "        print(f\"images size: {images.shape}\")\n",
    "\n",
    "        # Pass images through encoder to get latent vectors\n",
    "        latent_vectors = model.encoder(images.view(images.size(0), -1)).cpu().numpy()\n",
    "        labels = labels.numpy()\n",
    "        print(type(latent_vectors))\n",
    "        print(latent_vectors.shape)\n",
    "        print(images.view(images.size(0), -1).shape)\n",
    "        print(len(labels), n_samples, images.size(0))\n",
    "\n",
    "\n",
    "    # Apply t-SNE to reduce latent space to 2D, default perplexity = 30\n",
    "    tsne = TSNE(n_components=2, random_state=42)\n",
    "    latent_2d = tsne.fit_transform(latent_vectors)\n",
    "\n",
    "    # Plot the 2D latent space with labels\n",
    "    plt.figure(figsize=(10, 8))\n",
    "    scatter = plt.scatter(latent_2d[:, 0], latent_2d[:, 1], c=labels, cmap='tab10', alpha=0.7)\n",
    "    plt.colorbar(scatter, ticks=range(10), label='Digit Labels')\n",
    "    plt.title('2D Visualization of Latent Space using t-SNE')\n",
    "    plt.xlabel('t-SNE Dimension 1')\n",
    "    plt.ylabel('t-SNE Dimension 2')\n",
    "    plt.show()\n",
    "\n",
    "# Visualize the latent space\n",
    "visualize_latent_space(model, train_loader)\n"
   ]
  },
  {
   "cell_type": "code",
   "execution_count": 11,
   "id": "746654cd-b97c-4f5e-a922-54b4465bb99f",
   "metadata": {},
   "outputs": [
    {
     "data": {
      "text/plain": [
       "\u001b[31mSignature:\u001b[39m      model.encoder(*args, **kwargs)\n",
       "\u001b[31mType:\u001b[39m           Sequential\n",
       "\u001b[31mString form:\u001b[39m   \n",
       "Sequential(\n",
       "           (0): Linear(in_features=784, out_features=400, bias=True)\n",
       "           (1): ReLU()\n",
       "           (2): Line <...> atures=200, bias=True)\n",
       "           (3): ReLU()\n",
       "           (4): Linear(in_features=200, out_features=20, bias=True)\n",
       "           )\n",
       "\u001b[31mLength:\u001b[39m         5\n",
       "\u001b[31mFile:\u001b[39m           ~/miniforge3/envs/ecg/lib/python3.13/site-packages/torch/nn/modules/container.py\n",
       "\u001b[31mDocstring:\u001b[39m     \n",
       "A sequential container.\n",
       "\n",
       "Modules will be added to it in the order they are passed in the\n",
       "constructor. Alternatively, an ``OrderedDict`` of modules can be\n",
       "passed in. The ``forward()`` method of ``Sequential`` accepts any\n",
       "input and forwards it to the first module it contains. It then\n",
       "\"chains\" outputs to inputs sequentially for each subsequent module,\n",
       "finally returning the output of the last module.\n",
       "\n",
       "The value a ``Sequential`` provides over manually calling a sequence\n",
       "of modules is that it allows treating the whole container as a\n",
       "single module, such that performing a transformation on the\n",
       "``Sequential`` applies to each of the modules it stores (which are\n",
       "each a registered submodule of the ``Sequential``).\n",
       "\n",
       "What's the difference between a ``Sequential`` and a\n",
       ":class:`torch.nn.ModuleList`? A ``ModuleList`` is exactly what it\n",
       "sounds like--a list for storing ``Module`` s! On the other hand,\n",
       "the layers in a ``Sequential`` are connected in a cascading way.\n",
       "\n",
       "Example::\n",
       "\n",
       "    # Using Sequential to create a small model. When `model` is run,\n",
       "    # input will first be passed to `Conv2d(1,20,5)`. The output of\n",
       "    # `Conv2d(1,20,5)` will be used as the input to the first\n",
       "    # `ReLU`; the output of the first `ReLU` will become the input\n",
       "    # for `Conv2d(20,64,5)`. Finally, the output of\n",
       "    # `Conv2d(20,64,5)` will be used as input to the second `ReLU`\n",
       "    model = nn.Sequential(\n",
       "              nn.Conv2d(1,20,5),\n",
       "              nn.ReLU(),\n",
       "              nn.Conv2d(20,64,5),\n",
       "              nn.ReLU()\n",
       "            )\n",
       "\n",
       "    # Using Sequential with OrderedDict. This is functionally the\n",
       "    # same as the above code\n",
       "    model = nn.Sequential(OrderedDict([\n",
       "              ('conv1', nn.Conv2d(1,20,5)),\n",
       "              ('relu1', nn.ReLU()),\n",
       "              ('conv2', nn.Conv2d(20,64,5)),\n",
       "              ('relu2', nn.ReLU())\n",
       "            ]))\n",
       "\u001b[31mInit docstring:\u001b[39m Initialize internal Module state, shared by both nn.Module and ScriptModule."
      ]
     },
     "metadata": {},
     "output_type": "display_data"
    }
   ],
   "source": [
    "model.encoder?"
   ]
  },
  {
   "cell_type": "code",
   "execution_count": null,
   "id": "81cd3cc8-3e4f-46b6-8837-79308b814eb8",
   "metadata": {},
   "outputs": [],
   "source": []
  }
 ],
 "metadata": {
  "kernelspec": {
   "display_name": "Python 3 (ipykernel)",
   "language": "python",
   "name": "python3"
  },
  "language_info": {
   "codemirror_mode": {
    "name": "ipython",
    "version": 3
   },
   "file_extension": ".py",
   "mimetype": "text/x-python",
   "name": "python",
   "nbconvert_exporter": "python",
   "pygments_lexer": "ipython3",
   "version": "3.13.3"
  }
 },
 "nbformat": 4,
 "nbformat_minor": 5
}
