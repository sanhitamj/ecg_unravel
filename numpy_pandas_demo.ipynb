{
 "cells": [
  {
   "cell_type": "code",
   "execution_count": 13,
   "id": "372c5e78-6a37-49d8-b5fe-c42289c70c1e",
   "metadata": {},
   "outputs": [],
   "source": [
    "import numpy as np\n",
    "import pandas as pd"
   ]
  },
  {
   "cell_type": "markdown",
   "id": "a5a46167-d7e8-41d5-8fa5-a7213e37f4e7",
   "metadata": {},
   "source": [
    "# To read 3D numpy arrays, save those as CSV"
   ]
  },
  {
   "cell_type": "code",
   "execution_count": 14,
   "id": "4cd32399-7ed7-49d1-a4af-1aa908866736",
   "metadata": {},
   "outputs": [
    {
     "data": {
      "text/plain": [
       "(5, 4096, 12)"
      ]
     },
     "execution_count": 14,
     "metadata": {},
     "output_type": "execute_result"
    }
   ],
   "source": [
    "arr = np.load('output/part16_age_diff_1_age_20/reconstructed.npy')\n",
    "arr.shape"
   ]
  },
  {
   "cell_type": "code",
   "execution_count": 15,
   "id": "fbf34bb0-6905-4037-bf5e-3d1ecc2e578e",
   "metadata": {},
   "outputs": [],
   "source": [
    "# To flatten traces to 1-d\n",
    "arr_2d = arr.reshape(arr.shape[0], -1, order='C')"
   ]
  },
  {
   "cell_type": "code",
   "execution_count": 16,
   "id": "c7702cf1-d3cb-4fd8-b8f6-63c011cb6ac1",
   "metadata": {},
   "outputs": [
    {
     "data": {
      "text/plain": [
       "(5, 49152)"
      ]
     },
     "execution_count": 16,
     "metadata": {},
     "output_type": "execute_result"
    }
   ],
   "source": [
    "# check the shape of the 2d array\n",
    "arr_2d.shape"
   ]
  },
  {
   "cell_type": "code",
   "execution_count": 17,
   "id": "17699027-037e-4049-93fd-14e693897bfd",
   "metadata": {},
   "outputs": [],
   "source": [
    "# To save the array in the CSV format\n",
    "np.savetxt(\"file.csv\", arr_2d, delimiter=\",\")\n",
    "\n",
    "# to use complex directory structure\n",
    "\n",
    "\n",
    "# First create the directory, if it doesn't exist.\n",
    "from pathlib import Path\n",
    "p = Path('output_directory')\n",
    "p.mkdir(parents=True, exist_ok=True)\n",
    "\n",
    "np.savetxt('output_directory/file.csv', arr_2d, delimiter=\",\")"
   ]
  },
  {
   "cell_type": "markdown",
   "id": "358c7243-e466-415d-ac4b-c5f4015bf998",
   "metadata": {},
   "source": [
    "## Some useful numpy commands"
   ]
  },
  {
   "cell_type": "code",
   "execution_count": 18,
   "id": "dd78d8ef-eb4d-488c-b53f-685302456ee7",
   "metadata": {},
   "outputs": [
    {
     "data": {
      "text/plain": [
       "(5, 49152)"
      ]
     },
     "execution_count": 18,
     "metadata": {},
     "output_type": "execute_result"
    }
   ],
   "source": [
    "arr_2d.shape"
   ]
  },
  {
   "cell_type": "code",
   "execution_count": 19,
   "id": "08b761e2-8836-4d8c-a7eb-9d4a8f41074e",
   "metadata": {},
   "outputs": [
    {
     "data": {
      "text/plain": [
       "(49152, 5)"
      ]
     },
     "execution_count": 19,
     "metadata": {},
     "output_type": "execute_result"
    }
   ],
   "source": [
    "# Transpose\n",
    "arr_2d.T.shape"
   ]
  },
  {
   "cell_type": "code",
   "execution_count": 20,
   "id": "66617012-ac9f-488b-8a00-742ffdc3d504",
   "metadata": {},
   "outputs": [
    {
     "data": {
      "text/plain": [
       "(49152, 5)"
      ]
     },
     "execution_count": 20,
     "metadata": {},
     "output_type": "execute_result"
    }
   ],
   "source": [
    "# arr_2d still isn't saved in the transposed format. \n",
    "arr_2d_t = arr_2d.T\n",
    "arr_2d_t.shape"
   ]
  },
  {
   "cell_type": "code",
   "execution_count": 21,
   "id": "1997a124-a8fa-4685-9a57-27b663f5d47a",
   "metadata": {},
   "outputs": [
    {
     "data": {
      "text/plain": [
       "(5, 49152)"
      ]
     },
     "execution_count": 21,
     "metadata": {},
     "output_type": "execute_result"
    }
   ],
   "source": [
    "arr_2d.shape"
   ]
  },
  {
   "cell_type": "markdown",
   "id": "dc73d2d4-22a6-4900-99e8-1a7be1b5c101",
   "metadata": {},
   "source": [
    "# Pandas commands"
   ]
  },
  {
   "cell_type": "code",
   "execution_count": 22,
   "id": "d6af247e-335a-439e-a169-7f70b455845d",
   "metadata": {},
   "outputs": [
    {
     "data": {
      "text/html": [
       "<div>\n",
       "<style scoped>\n",
       "    .dataframe tbody tr th:only-of-type {\n",
       "        vertical-align: middle;\n",
       "    }\n",
       "\n",
       "    .dataframe tbody tr th {\n",
       "        vertical-align: top;\n",
       "    }\n",
       "\n",
       "    .dataframe thead th {\n",
       "        text-align: right;\n",
       "    }\n",
       "</style>\n",
       "<table border=\"1\" class=\"dataframe\">\n",
       "  <thead>\n",
       "    <tr style=\"text-align: right;\">\n",
       "      <th></th>\n",
       "      <th>predicted_age</th>\n",
       "    </tr>\n",
       "  </thead>\n",
       "  <tbody>\n",
       "    <tr>\n",
       "      <th>0</th>\n",
       "      <td>20.784388</td>\n",
       "    </tr>\n",
       "    <tr>\n",
       "      <th>1</th>\n",
       "      <td>20.849621</td>\n",
       "    </tr>\n",
       "    <tr>\n",
       "      <th>2</th>\n",
       "      <td>20.477114</td>\n",
       "    </tr>\n",
       "    <tr>\n",
       "      <th>3</th>\n",
       "      <td>20.100880</td>\n",
       "    </tr>\n",
       "    <tr>\n",
       "      <th>4</th>\n",
       "      <td>20.964325</td>\n",
       "    </tr>\n",
       "  </tbody>\n",
       "</table>\n",
       "</div>"
      ],
      "text/plain": [
       "   predicted_age\n",
       "0      20.784388\n",
       "1      20.849621\n",
       "2      20.477114\n",
       "3      20.100880\n",
       "4      20.964325"
      ]
     },
     "execution_count": 22,
     "metadata": {},
     "output_type": "execute_result"
    }
   ],
   "source": [
    "df = pd.read_csv(\"output/part16_age_diff_1_age_20/prediction.csv\")\n",
    "df.head()"
   ]
  },
  {
   "cell_type": "code",
   "execution_count": 23,
   "id": "1c89784a-02d7-44ee-a525-bf1517f5a8fd",
   "metadata": {},
   "outputs": [
    {
     "data": {
      "text/plain": [
       "(5, 1)"
      ]
     },
     "execution_count": 23,
     "metadata": {},
     "output_type": "execute_result"
    }
   ],
   "source": [
    "df.shape"
   ]
  },
  {
   "cell_type": "code",
   "execution_count": 24,
   "id": "8a1193ff-aee3-4376-bcf5-a6fa5a8cf9d3",
   "metadata": {},
   "outputs": [
    {
     "data": {
      "text/html": [
       "<div>\n",
       "<style scoped>\n",
       "    .dataframe tbody tr th:only-of-type {\n",
       "        vertical-align: middle;\n",
       "    }\n",
       "\n",
       "    .dataframe tbody tr th {\n",
       "        vertical-align: top;\n",
       "    }\n",
       "\n",
       "    .dataframe thead th {\n",
       "        text-align: right;\n",
       "    }\n",
       "</style>\n",
       "<table border=\"1\" class=\"dataframe\">\n",
       "  <thead>\n",
       "    <tr style=\"text-align: right;\">\n",
       "      <th></th>\n",
       "      <th>0</th>\n",
       "      <th>1</th>\n",
       "      <th>2</th>\n",
       "      <th>3</th>\n",
       "      <th>4</th>\n",
       "    </tr>\n",
       "  </thead>\n",
       "  <tbody>\n",
       "    <tr>\n",
       "      <th>predicted_age</th>\n",
       "      <td>20.784388</td>\n",
       "      <td>20.849621</td>\n",
       "      <td>20.477114</td>\n",
       "      <td>20.10088</td>\n",
       "      <td>20.964325</td>\n",
       "    </tr>\n",
       "  </tbody>\n",
       "</table>\n",
       "</div>"
      ],
      "text/plain": [
       "                       0          1          2         3          4\n",
       "predicted_age  20.784388  20.849621  20.477114  20.10088  20.964325"
      ]
     },
     "execution_count": 24,
     "metadata": {},
     "output_type": "execute_result"
    }
   ],
   "source": [
    "# transpose\n",
    "df.T"
   ]
  },
  {
   "cell_type": "code",
   "execution_count": 25,
   "id": "df9315e1-5260-4929-90bb-aa64acc7f1ec",
   "metadata": {},
   "outputs": [],
   "source": [
    "# to save the file\n",
    "df.to_csv(\"file.csv\", index=False)"
   ]
  }
 ],
 "metadata": {
  "kernelspec": {
   "display_name": "Python 3 (ipykernel)",
   "language": "python",
   "name": "python3"
  },
  "language_info": {
   "codemirror_mode": {
    "name": "ipython",
    "version": 3
   },
   "file_extension": ".py",
   "mimetype": "text/x-python",
   "name": "python",
   "nbconvert_exporter": "python",
   "pygments_lexer": "ipython3",
   "version": "3.13.3"
  }
 },
 "nbformat": 4,
 "nbformat_minor": 5
}
